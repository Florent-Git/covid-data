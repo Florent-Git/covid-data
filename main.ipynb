{
 "cells": [
  {
   "cell_type": "markdown",
   "metadata": {},
   "source": [
    "# 0. Imports"
   ]
  },
  {
   "cell_type": "code",
   "execution_count": 74,
   "metadata": {
    "ExecuteTime": {
     "end_time": "2024-01-21T09:16:20.196892300Z",
     "start_time": "2024-01-21T09:16:20.114801800Z"
    }
   },
   "outputs": [],
   "source": [
    "import pandas as pd\n",
    "import matplotlib.pyplot as plt\n",
    "import seaborn as sns\n",
    "import numpy as np\n",
    "import utils as util\n",
    "\n",
    "from sklearn.model_selection import train_test_split\n",
    "from sklearn.metrics import confusion_matrix\n",
    "from sklearn.tree import DecisionTreeClassifier\n",
    "from sklearn.ensemble import RandomForestClassifier\n",
    "from sklearn.metrics import ConfusionMatrixDisplay"
   ]
  },
  {
   "cell_type": "markdown",
   "metadata": {},
   "source": [
    "# 1. Preamble analysis of the dataset"
   ]
  },
  {
   "cell_type": "code",
   "execution_count": 2,
   "metadata": {
    "ExecuteTime": {
     "end_time": "2024-01-21T08:51:49.126307Z",
     "start_time": "2024-01-21T08:51:46.742060700Z"
    }
   },
   "outputs": [
    {
     "data": {
      "text/plain": "   USMER  MEDICAL_UNIT  SEX  PATIENT_TYPE   DATE_DIED  INTUBED  PNEUMONIA  \\\n0      2             1    1             1  03/05/2020       97          1   \n1      2             1    2             1  03/06/2020       97          1   \n2      2             1    2             2  09/06/2020        1          2   \n3      2             1    1             1  12/06/2020       97          2   \n4      2             1    2             1  21/06/2020       97          2   \n\n   AGE  PREGNANT  DIABETES  ...  ASTHMA  INMSUPR  HIPERTENSION  OTHER_DISEASE  \\\n0   65         2         2  ...       2        2             1              2   \n1   72        97         2  ...       2        2             1              2   \n2   55        97         1  ...       2        2             2              2   \n3   53         2         2  ...       2        2             2              2   \n4   68        97         1  ...       2        2             1              2   \n\n   CARDIOVASCULAR  OBESITY  RENAL_CHRONIC  TOBACCO  CLASIFFICATION_FINAL  ICU  \n0               2        2              2        2                     3   97  \n1               2        1              1        2                     5   97  \n2               2        2              2        2                     3    2  \n3               2        2              2        2                     7   97  \n4               2        2              2        2                     3   97  \n\n[5 rows x 21 columns]",
      "text/html": "<div>\n<style scoped>\n    .dataframe tbody tr th:only-of-type {\n        vertical-align: middle;\n    }\n\n    .dataframe tbody tr th {\n        vertical-align: top;\n    }\n\n    .dataframe thead th {\n        text-align: right;\n    }\n</style>\n<table border=\"1\" class=\"dataframe\">\n  <thead>\n    <tr style=\"text-align: right;\">\n      <th></th>\n      <th>USMER</th>\n      <th>MEDICAL_UNIT</th>\n      <th>SEX</th>\n      <th>PATIENT_TYPE</th>\n      <th>DATE_DIED</th>\n      <th>INTUBED</th>\n      <th>PNEUMONIA</th>\n      <th>AGE</th>\n      <th>PREGNANT</th>\n      <th>DIABETES</th>\n      <th>...</th>\n      <th>ASTHMA</th>\n      <th>INMSUPR</th>\n      <th>HIPERTENSION</th>\n      <th>OTHER_DISEASE</th>\n      <th>CARDIOVASCULAR</th>\n      <th>OBESITY</th>\n      <th>RENAL_CHRONIC</th>\n      <th>TOBACCO</th>\n      <th>CLASIFFICATION_FINAL</th>\n      <th>ICU</th>\n    </tr>\n  </thead>\n  <tbody>\n    <tr>\n      <th>0</th>\n      <td>2</td>\n      <td>1</td>\n      <td>1</td>\n      <td>1</td>\n      <td>03/05/2020</td>\n      <td>97</td>\n      <td>1</td>\n      <td>65</td>\n      <td>2</td>\n      <td>2</td>\n      <td>...</td>\n      <td>2</td>\n      <td>2</td>\n      <td>1</td>\n      <td>2</td>\n      <td>2</td>\n      <td>2</td>\n      <td>2</td>\n      <td>2</td>\n      <td>3</td>\n      <td>97</td>\n    </tr>\n    <tr>\n      <th>1</th>\n      <td>2</td>\n      <td>1</td>\n      <td>2</td>\n      <td>1</td>\n      <td>03/06/2020</td>\n      <td>97</td>\n      <td>1</td>\n      <td>72</td>\n      <td>97</td>\n      <td>2</td>\n      <td>...</td>\n      <td>2</td>\n      <td>2</td>\n      <td>1</td>\n      <td>2</td>\n      <td>2</td>\n      <td>1</td>\n      <td>1</td>\n      <td>2</td>\n      <td>5</td>\n      <td>97</td>\n    </tr>\n    <tr>\n      <th>2</th>\n      <td>2</td>\n      <td>1</td>\n      <td>2</td>\n      <td>2</td>\n      <td>09/06/2020</td>\n      <td>1</td>\n      <td>2</td>\n      <td>55</td>\n      <td>97</td>\n      <td>1</td>\n      <td>...</td>\n      <td>2</td>\n      <td>2</td>\n      <td>2</td>\n      <td>2</td>\n      <td>2</td>\n      <td>2</td>\n      <td>2</td>\n      <td>2</td>\n      <td>3</td>\n      <td>2</td>\n    </tr>\n    <tr>\n      <th>3</th>\n      <td>2</td>\n      <td>1</td>\n      <td>1</td>\n      <td>1</td>\n      <td>12/06/2020</td>\n      <td>97</td>\n      <td>2</td>\n      <td>53</td>\n      <td>2</td>\n      <td>2</td>\n      <td>...</td>\n      <td>2</td>\n      <td>2</td>\n      <td>2</td>\n      <td>2</td>\n      <td>2</td>\n      <td>2</td>\n      <td>2</td>\n      <td>2</td>\n      <td>7</td>\n      <td>97</td>\n    </tr>\n    <tr>\n      <th>4</th>\n      <td>2</td>\n      <td>1</td>\n      <td>2</td>\n      <td>1</td>\n      <td>21/06/2020</td>\n      <td>97</td>\n      <td>2</td>\n      <td>68</td>\n      <td>97</td>\n      <td>1</td>\n      <td>...</td>\n      <td>2</td>\n      <td>2</td>\n      <td>1</td>\n      <td>2</td>\n      <td>2</td>\n      <td>2</td>\n      <td>2</td>\n      <td>2</td>\n      <td>3</td>\n      <td>97</td>\n    </tr>\n  </tbody>\n</table>\n<p>5 rows × 21 columns</p>\n</div>"
     },
     "execution_count": 2,
     "metadata": {},
     "output_type": "execute_result"
    }
   ],
   "source": [
    "df = pd.read_csv(\"./data/covid_data.csv\")\n",
    "df.head()"
   ]
  },
  {
   "cell_type": "markdown",
   "metadata": {},
   "source": [
    "### 1.1 Analysing existing data"
   ]
  },
  {
   "cell_type": "code",
   "execution_count": 3,
   "metadata": {
    "collapsed": false,
    "ExecuteTime": {
     "end_time": "2024-01-21T08:51:49.128408800Z",
     "start_time": "2024-01-21T08:51:48.524990600Z"
    }
   },
   "outputs": [],
   "source": [
    "df_null = df.copy()\n",
    "for i in [97, 98, 99]:\n",
    "   df_null.replace(i , np.nan, inplace = True)"
   ]
  },
  {
   "cell_type": "code",
   "execution_count": 4,
   "metadata": {
    "collapsed": false,
    "ExecuteTime": {
     "end_time": "2024-01-21T08:51:49.298779600Z",
     "start_time": "2024-01-21T08:51:49.110164400Z"
    }
   },
   "outputs": [
    {
     "data": {
      "text/plain": "USMER                        0\nMEDICAL_UNIT                 0\nSEX                          0\nPATIENT_TYPE                 0\nDATE_DIED                    0\nINTUBED                 855869\nPNEUMONIA                16003\nAGE                        345\nPREGNANT                527265\nDIABETES                  3338\nCOPD                      3003\nASTHMA                    2979\nINMSUPR                   3404\nHIPERTENSION              3104\nOTHER_DISEASE             5045\nCARDIOVASCULAR            3076\nOBESITY                   3032\nRENAL_CHRONIC             3006\nTOBACCO                   3220\nCLASIFFICATION_FINAL         0\nICU                     856032\ndtype: int64"
     },
     "execution_count": 4,
     "metadata": {},
     "output_type": "execute_result"
    }
   ],
   "source": [
    "df_null.isnull().sum()"
   ]
  },
  {
   "cell_type": "markdown",
   "metadata": {
    "collapsed": false
   },
   "source": [
    "As we can show with the following graph, there are **a lot** of NA values in the dataset. We will have to handle them.\n",
    "\n",
    "One approach is to take the mean of the column and replace the NA values with it. However, this is not a good approach, as it will skew the data. We will have to find a better way to handle the NA values.\n",
    "\n",
    "We will therefore have to go each problematic columun to fix the eventual problematic data\n",
    "\n",
    "Remember that in the dataset definition it says that 97,98 and 99 are null values, let's deal with that"
   ]
  },
  {
   "cell_type": "code",
   "execution_count": 5,
   "metadata": {
    "collapsed": false,
    "ExecuteTime": {
     "end_time": "2024-01-21T08:51:49.299749400Z",
     "start_time": "2024-01-21T08:51:49.234326500Z"
    }
   },
   "outputs": [],
   "source": [
    "# sns.heatmap(df_null.isnull(), cbar=False)\n",
    "# plt.title('Before data cleanup', color = 'black', fontsize = 15)\n",
    "# plt.show()"
   ]
  },
  {
   "cell_type": "markdown",
   "metadata": {
    "collapsed": false
   },
   "source": [
    "#### As we can see, that's no bueno..."
   ]
  },
  {
   "cell_type": "code",
   "execution_count": 6,
   "metadata": {
    "collapsed": false,
    "ExecuteTime": {
     "end_time": "2024-01-21T08:51:50.407412200Z",
     "start_time": "2024-01-21T08:51:49.247798200Z"
    }
   },
   "outputs": [
    {
     "data": {
      "text/plain": "                        mean     std  min   25%   50%   75%    max\nUSMER                  1.632   0.482  1.0   1.0   2.0   2.0    2.0\nMEDICAL_UNIT           8.981   3.723  1.0   4.0  12.0  12.0   13.0\nSEX                    1.499   0.500  1.0   1.0   1.0   2.0    2.0\nPATIENT_TYPE           1.191   0.393  1.0   1.0   1.0   1.0    2.0\nINTUBED               79.523  36.869  1.0  97.0  97.0  97.0   99.0\nPNEUMONIA              3.347  11.913  1.0   2.0   2.0   2.0   99.0\nAGE                   41.794  16.907  0.0  30.0  40.0  53.0  121.0\nPREGNANT              49.766  47.511  1.0   2.0  97.0  97.0   98.0\nDIABETES               2.186   5.424  1.0   2.0   2.0   2.0   98.0\nCOPD                   2.261   5.132  1.0   2.0   2.0   2.0   98.0\nASTHMA                 2.243   5.114  1.0   2.0   2.0   2.0   98.0\nINMSUPR                2.298   5.463  1.0   2.0   2.0   2.0   98.0\nHIPERTENSION           2.129   5.236  1.0   2.0   2.0   2.0   98.0\nOTHER_DISEASE          2.435   6.647  1.0   2.0   2.0   2.0   98.0\nCARDIOVASCULAR         2.262   5.195  1.0   2.0   2.0   2.0   98.0\nOBESITY                2.125   5.175  1.0   2.0   2.0   2.0   98.0\nRENAL_CHRONIC          2.257   5.135  1.0   2.0   2.0   2.0   98.0\nTOBACCO                2.214   5.323  1.0   2.0   2.0   2.0   98.0\nCLASIFFICATION_FINAL   5.306   1.881  1.0   3.0   6.0   7.0    7.0\nICU                   79.554  36.823  1.0  97.0  97.0  97.0   99.0",
      "text/html": "<div>\n<style scoped>\n    .dataframe tbody tr th:only-of-type {\n        vertical-align: middle;\n    }\n\n    .dataframe tbody tr th {\n        vertical-align: top;\n    }\n\n    .dataframe thead th {\n        text-align: right;\n    }\n</style>\n<table border=\"1\" class=\"dataframe\">\n  <thead>\n    <tr style=\"text-align: right;\">\n      <th></th>\n      <th>mean</th>\n      <th>std</th>\n      <th>min</th>\n      <th>25%</th>\n      <th>50%</th>\n      <th>75%</th>\n      <th>max</th>\n    </tr>\n  </thead>\n  <tbody>\n    <tr>\n      <th>USMER</th>\n      <td>1.632</td>\n      <td>0.482</td>\n      <td>1.0</td>\n      <td>1.0</td>\n      <td>2.0</td>\n      <td>2.0</td>\n      <td>2.0</td>\n    </tr>\n    <tr>\n      <th>MEDICAL_UNIT</th>\n      <td>8.981</td>\n      <td>3.723</td>\n      <td>1.0</td>\n      <td>4.0</td>\n      <td>12.0</td>\n      <td>12.0</td>\n      <td>13.0</td>\n    </tr>\n    <tr>\n      <th>SEX</th>\n      <td>1.499</td>\n      <td>0.500</td>\n      <td>1.0</td>\n      <td>1.0</td>\n      <td>1.0</td>\n      <td>2.0</td>\n      <td>2.0</td>\n    </tr>\n    <tr>\n      <th>PATIENT_TYPE</th>\n      <td>1.191</td>\n      <td>0.393</td>\n      <td>1.0</td>\n      <td>1.0</td>\n      <td>1.0</td>\n      <td>1.0</td>\n      <td>2.0</td>\n    </tr>\n    <tr>\n      <th>INTUBED</th>\n      <td>79.523</td>\n      <td>36.869</td>\n      <td>1.0</td>\n      <td>97.0</td>\n      <td>97.0</td>\n      <td>97.0</td>\n      <td>99.0</td>\n    </tr>\n    <tr>\n      <th>PNEUMONIA</th>\n      <td>3.347</td>\n      <td>11.913</td>\n      <td>1.0</td>\n      <td>2.0</td>\n      <td>2.0</td>\n      <td>2.0</td>\n      <td>99.0</td>\n    </tr>\n    <tr>\n      <th>AGE</th>\n      <td>41.794</td>\n      <td>16.907</td>\n      <td>0.0</td>\n      <td>30.0</td>\n      <td>40.0</td>\n      <td>53.0</td>\n      <td>121.0</td>\n    </tr>\n    <tr>\n      <th>PREGNANT</th>\n      <td>49.766</td>\n      <td>47.511</td>\n      <td>1.0</td>\n      <td>2.0</td>\n      <td>97.0</td>\n      <td>97.0</td>\n      <td>98.0</td>\n    </tr>\n    <tr>\n      <th>DIABETES</th>\n      <td>2.186</td>\n      <td>5.424</td>\n      <td>1.0</td>\n      <td>2.0</td>\n      <td>2.0</td>\n      <td>2.0</td>\n      <td>98.0</td>\n    </tr>\n    <tr>\n      <th>COPD</th>\n      <td>2.261</td>\n      <td>5.132</td>\n      <td>1.0</td>\n      <td>2.0</td>\n      <td>2.0</td>\n      <td>2.0</td>\n      <td>98.0</td>\n    </tr>\n    <tr>\n      <th>ASTHMA</th>\n      <td>2.243</td>\n      <td>5.114</td>\n      <td>1.0</td>\n      <td>2.0</td>\n      <td>2.0</td>\n      <td>2.0</td>\n      <td>98.0</td>\n    </tr>\n    <tr>\n      <th>INMSUPR</th>\n      <td>2.298</td>\n      <td>5.463</td>\n      <td>1.0</td>\n      <td>2.0</td>\n      <td>2.0</td>\n      <td>2.0</td>\n      <td>98.0</td>\n    </tr>\n    <tr>\n      <th>HIPERTENSION</th>\n      <td>2.129</td>\n      <td>5.236</td>\n      <td>1.0</td>\n      <td>2.0</td>\n      <td>2.0</td>\n      <td>2.0</td>\n      <td>98.0</td>\n    </tr>\n    <tr>\n      <th>OTHER_DISEASE</th>\n      <td>2.435</td>\n      <td>6.647</td>\n      <td>1.0</td>\n      <td>2.0</td>\n      <td>2.0</td>\n      <td>2.0</td>\n      <td>98.0</td>\n    </tr>\n    <tr>\n      <th>CARDIOVASCULAR</th>\n      <td>2.262</td>\n      <td>5.195</td>\n      <td>1.0</td>\n      <td>2.0</td>\n      <td>2.0</td>\n      <td>2.0</td>\n      <td>98.0</td>\n    </tr>\n    <tr>\n      <th>OBESITY</th>\n      <td>2.125</td>\n      <td>5.175</td>\n      <td>1.0</td>\n      <td>2.0</td>\n      <td>2.0</td>\n      <td>2.0</td>\n      <td>98.0</td>\n    </tr>\n    <tr>\n      <th>RENAL_CHRONIC</th>\n      <td>2.257</td>\n      <td>5.135</td>\n      <td>1.0</td>\n      <td>2.0</td>\n      <td>2.0</td>\n      <td>2.0</td>\n      <td>98.0</td>\n    </tr>\n    <tr>\n      <th>TOBACCO</th>\n      <td>2.214</td>\n      <td>5.323</td>\n      <td>1.0</td>\n      <td>2.0</td>\n      <td>2.0</td>\n      <td>2.0</td>\n      <td>98.0</td>\n    </tr>\n    <tr>\n      <th>CLASIFFICATION_FINAL</th>\n      <td>5.306</td>\n      <td>1.881</td>\n      <td>1.0</td>\n      <td>3.0</td>\n      <td>6.0</td>\n      <td>7.0</td>\n      <td>7.0</td>\n    </tr>\n    <tr>\n      <th>ICU</th>\n      <td>79.554</td>\n      <td>36.823</td>\n      <td>1.0</td>\n      <td>97.0</td>\n      <td>97.0</td>\n      <td>97.0</td>\n      <td>99.0</td>\n    </tr>\n  </tbody>\n</table>\n</div>"
     },
     "execution_count": 6,
     "metadata": {},
     "output_type": "execute_result"
    }
   ],
   "source": [
    "df.describe().round(3).T.drop('count', axis = 1)"
   ]
  },
  {
   "cell_type": "markdown",
   "metadata": {
    "collapsed": false
   },
   "source": [
    "Furthermore, we have some suspiciously skewed data. Is really half of the population pregnant?!"
   ]
  },
  {
   "cell_type": "markdown",
   "metadata": {
    "collapsed": false
   },
   "source": [
    "### 1.2 Managing the DEAD people "
   ]
  },
  {
   "cell_type": "markdown",
   "metadata": {
    "collapsed": false
   },
   "source": [
    "People with a DATE_DIED value of 9999-99-99 simply aren't dead, so we'll just create a new DEAD column to represent that"
   ]
  },
  {
   "cell_type": "code",
   "execution_count": 7,
   "metadata": {
    "collapsed": false,
    "ExecuteTime": {
     "end_time": "2024-01-21T08:51:50.701367500Z",
     "start_time": "2024-01-21T08:51:50.527652800Z"
    }
   },
   "outputs": [
    {
     "data": {
      "text/plain": "0          03/05/2020\n1          03/06/2020\n2          09/06/2020\n3          12/06/2020\n4          21/06/2020\n              ...    \n1048570    9999-99-99\n1048571    9999-99-99\n1048572    9999-99-99\n1048573    9999-99-99\n1048574    9999-99-99\nName: DATE_DIED, Length: 1048575, dtype: object"
     },
     "execution_count": 7,
     "metadata": {},
     "output_type": "execute_result"
    }
   ],
   "source": [
    "# Check for any strings in the feature \"DATE_DIED\"\n",
    "df['DATE_DIED'][df['DATE_DIED'].apply(lambda x: isinstance(x, str))]"
   ]
  },
  {
   "cell_type": "code",
   "execution_count": 8,
   "metadata": {
    "collapsed": false,
    "ExecuteTime": {
     "end_time": "2024-01-21T08:51:50.989218900Z",
     "start_time": "2024-01-21T08:51:50.621764Z"
    }
   },
   "outputs": [],
   "source": [
    "df['DEAD'] = [2 if i=='9999-99-99' else 1 for i in df.DATE_DIED]"
   ]
  },
  {
   "cell_type": "code",
   "execution_count": 9,
   "metadata": {
    "collapsed": false,
    "ExecuteTime": {
     "end_time": "2024-01-21T08:51:51.118687400Z",
     "start_time": "2024-01-21T08:51:51.005879Z"
    }
   },
   "outputs": [
    {
     "data": {
      "text/plain": "DEAD\n2    0.926622\n1    0.073378\nName: proportion, dtype: float64"
     },
     "execution_count": 9,
     "metadata": {},
     "output_type": "execute_result"
    }
   ],
   "source": [
    "df['DEAD'].value_counts(normalize=True)"
   ]
  },
  {
   "cell_type": "markdown",
   "metadata": {
    "collapsed": false
   },
   "source": [
    "We'll also replace 9999-99-99 with NaN for the time being"
   ]
  },
  {
   "cell_type": "code",
   "execution_count": 10,
   "metadata": {
    "collapsed": false,
    "ExecuteTime": {
     "end_time": "2024-01-21T08:51:51.216011500Z",
     "start_time": "2024-01-21T08:51:51.039605500Z"
    }
   },
   "outputs": [],
   "source": [
    "df = df.drop('DATE_DIED', axis=1)"
   ]
  },
  {
   "cell_type": "markdown",
   "metadata": {
    "collapsed": false
   },
   "source": [
    "#### How does the data look now ?"
   ]
  },
  {
   "cell_type": "code",
   "execution_count": 11,
   "metadata": {
    "collapsed": false,
    "ExecuteTime": {
     "end_time": "2024-01-21T08:51:53.013011300Z",
     "start_time": "2024-01-21T08:51:51.176572300Z"
    }
   },
   "outputs": [
    {
     "data": {
      "text/plain": "                        mean     std  min   25%   50%   75%    max\nUSMER                  1.632   0.482  1.0   1.0   2.0   2.0    2.0\nMEDICAL_UNIT           8.981   3.723  1.0   4.0  12.0  12.0   13.0\nSEX                    1.499   0.500  1.0   1.0   1.0   2.0    2.0\nPATIENT_TYPE           1.191   0.393  1.0   1.0   1.0   1.0    2.0\nINTUBED               79.523  36.869  1.0  97.0  97.0  97.0   99.0\nPNEUMONIA              3.347  11.913  1.0   2.0   2.0   2.0   99.0\nAGE                   41.794  16.907  0.0  30.0  40.0  53.0  121.0\nPREGNANT              49.766  47.511  1.0   2.0  97.0  97.0   98.0\nDIABETES               2.186   5.424  1.0   2.0   2.0   2.0   98.0\nCOPD                   2.261   5.132  1.0   2.0   2.0   2.0   98.0\nASTHMA                 2.243   5.114  1.0   2.0   2.0   2.0   98.0\nINMSUPR                2.298   5.463  1.0   2.0   2.0   2.0   98.0\nHIPERTENSION           2.129   5.236  1.0   2.0   2.0   2.0   98.0\nOTHER_DISEASE          2.435   6.647  1.0   2.0   2.0   2.0   98.0\nCARDIOVASCULAR         2.262   5.195  1.0   2.0   2.0   2.0   98.0\nOBESITY                2.125   5.175  1.0   2.0   2.0   2.0   98.0\nRENAL_CHRONIC          2.257   5.135  1.0   2.0   2.0   2.0   98.0\nTOBACCO                2.214   5.323  1.0   2.0   2.0   2.0   98.0\nCLASIFFICATION_FINAL   5.306   1.881  1.0   3.0   6.0   7.0    7.0\nICU                   79.554  36.823  1.0  97.0  97.0  97.0   99.0\nDEAD                   1.927   0.261  1.0   2.0   2.0   2.0    2.0",
      "text/html": "<div>\n<style scoped>\n    .dataframe tbody tr th:only-of-type {\n        vertical-align: middle;\n    }\n\n    .dataframe tbody tr th {\n        vertical-align: top;\n    }\n\n    .dataframe thead th {\n        text-align: right;\n    }\n</style>\n<table border=\"1\" class=\"dataframe\">\n  <thead>\n    <tr style=\"text-align: right;\">\n      <th></th>\n      <th>mean</th>\n      <th>std</th>\n      <th>min</th>\n      <th>25%</th>\n      <th>50%</th>\n      <th>75%</th>\n      <th>max</th>\n    </tr>\n  </thead>\n  <tbody>\n    <tr>\n      <th>USMER</th>\n      <td>1.632</td>\n      <td>0.482</td>\n      <td>1.0</td>\n      <td>1.0</td>\n      <td>2.0</td>\n      <td>2.0</td>\n      <td>2.0</td>\n    </tr>\n    <tr>\n      <th>MEDICAL_UNIT</th>\n      <td>8.981</td>\n      <td>3.723</td>\n      <td>1.0</td>\n      <td>4.0</td>\n      <td>12.0</td>\n      <td>12.0</td>\n      <td>13.0</td>\n    </tr>\n    <tr>\n      <th>SEX</th>\n      <td>1.499</td>\n      <td>0.500</td>\n      <td>1.0</td>\n      <td>1.0</td>\n      <td>1.0</td>\n      <td>2.0</td>\n      <td>2.0</td>\n    </tr>\n    <tr>\n      <th>PATIENT_TYPE</th>\n      <td>1.191</td>\n      <td>0.393</td>\n      <td>1.0</td>\n      <td>1.0</td>\n      <td>1.0</td>\n      <td>1.0</td>\n      <td>2.0</td>\n    </tr>\n    <tr>\n      <th>INTUBED</th>\n      <td>79.523</td>\n      <td>36.869</td>\n      <td>1.0</td>\n      <td>97.0</td>\n      <td>97.0</td>\n      <td>97.0</td>\n      <td>99.0</td>\n    </tr>\n    <tr>\n      <th>PNEUMONIA</th>\n      <td>3.347</td>\n      <td>11.913</td>\n      <td>1.0</td>\n      <td>2.0</td>\n      <td>2.0</td>\n      <td>2.0</td>\n      <td>99.0</td>\n    </tr>\n    <tr>\n      <th>AGE</th>\n      <td>41.794</td>\n      <td>16.907</td>\n      <td>0.0</td>\n      <td>30.0</td>\n      <td>40.0</td>\n      <td>53.0</td>\n      <td>121.0</td>\n    </tr>\n    <tr>\n      <th>PREGNANT</th>\n      <td>49.766</td>\n      <td>47.511</td>\n      <td>1.0</td>\n      <td>2.0</td>\n      <td>97.0</td>\n      <td>97.0</td>\n      <td>98.0</td>\n    </tr>\n    <tr>\n      <th>DIABETES</th>\n      <td>2.186</td>\n      <td>5.424</td>\n      <td>1.0</td>\n      <td>2.0</td>\n      <td>2.0</td>\n      <td>2.0</td>\n      <td>98.0</td>\n    </tr>\n    <tr>\n      <th>COPD</th>\n      <td>2.261</td>\n      <td>5.132</td>\n      <td>1.0</td>\n      <td>2.0</td>\n      <td>2.0</td>\n      <td>2.0</td>\n      <td>98.0</td>\n    </tr>\n    <tr>\n      <th>ASTHMA</th>\n      <td>2.243</td>\n      <td>5.114</td>\n      <td>1.0</td>\n      <td>2.0</td>\n      <td>2.0</td>\n      <td>2.0</td>\n      <td>98.0</td>\n    </tr>\n    <tr>\n      <th>INMSUPR</th>\n      <td>2.298</td>\n      <td>5.463</td>\n      <td>1.0</td>\n      <td>2.0</td>\n      <td>2.0</td>\n      <td>2.0</td>\n      <td>98.0</td>\n    </tr>\n    <tr>\n      <th>HIPERTENSION</th>\n      <td>2.129</td>\n      <td>5.236</td>\n      <td>1.0</td>\n      <td>2.0</td>\n      <td>2.0</td>\n      <td>2.0</td>\n      <td>98.0</td>\n    </tr>\n    <tr>\n      <th>OTHER_DISEASE</th>\n      <td>2.435</td>\n      <td>6.647</td>\n      <td>1.0</td>\n      <td>2.0</td>\n      <td>2.0</td>\n      <td>2.0</td>\n      <td>98.0</td>\n    </tr>\n    <tr>\n      <th>CARDIOVASCULAR</th>\n      <td>2.262</td>\n      <td>5.195</td>\n      <td>1.0</td>\n      <td>2.0</td>\n      <td>2.0</td>\n      <td>2.0</td>\n      <td>98.0</td>\n    </tr>\n    <tr>\n      <th>OBESITY</th>\n      <td>2.125</td>\n      <td>5.175</td>\n      <td>1.0</td>\n      <td>2.0</td>\n      <td>2.0</td>\n      <td>2.0</td>\n      <td>98.0</td>\n    </tr>\n    <tr>\n      <th>RENAL_CHRONIC</th>\n      <td>2.257</td>\n      <td>5.135</td>\n      <td>1.0</td>\n      <td>2.0</td>\n      <td>2.0</td>\n      <td>2.0</td>\n      <td>98.0</td>\n    </tr>\n    <tr>\n      <th>TOBACCO</th>\n      <td>2.214</td>\n      <td>5.323</td>\n      <td>1.0</td>\n      <td>2.0</td>\n      <td>2.0</td>\n      <td>2.0</td>\n      <td>98.0</td>\n    </tr>\n    <tr>\n      <th>CLASIFFICATION_FINAL</th>\n      <td>5.306</td>\n      <td>1.881</td>\n      <td>1.0</td>\n      <td>3.0</td>\n      <td>6.0</td>\n      <td>7.0</td>\n      <td>7.0</td>\n    </tr>\n    <tr>\n      <th>ICU</th>\n      <td>79.554</td>\n      <td>36.823</td>\n      <td>1.0</td>\n      <td>97.0</td>\n      <td>97.0</td>\n      <td>97.0</td>\n      <td>99.0</td>\n    </tr>\n    <tr>\n      <th>DEAD</th>\n      <td>1.927</td>\n      <td>0.261</td>\n      <td>1.0</td>\n      <td>2.0</td>\n      <td>2.0</td>\n      <td>2.0</td>\n      <td>2.0</td>\n    </tr>\n  </tbody>\n</table>\n</div>"
     },
     "execution_count": 11,
     "metadata": {},
     "output_type": "execute_result"
    }
   ],
   "source": [
    "df.describe().round(3).T.drop('count', axis = 1)\n"
   ]
  },
  {
   "cell_type": "markdown",
   "metadata": {
    "collapsed": false
   },
   "source": [
    "Hmmm, it looks like we'll have to work on the PREGNANT, ICU, and INTUBED people"
   ]
  },
  {
   "cell_type": "markdown",
   "metadata": {},
   "source": [
    "### 1.3 SEX Values"
   ]
  },
  {
   "cell_type": "markdown",
   "metadata": {},
   "source": [
    "We'll just set the 1 and 2 values to \"Female\" and \"Male\" respectively"
   ]
  },
  {
   "cell_type": "markdown",
   "metadata": {
    "collapsed": false
   },
   "source": [
    "### 1.4 Pregnant values"
   ]
  },
  {
   "cell_type": "code",
   "execution_count": 12,
   "metadata": {
    "collapsed": false,
    "ExecuteTime": {
     "end_time": "2024-01-21T08:51:53.068773200Z",
     "start_time": "2024-01-21T08:51:53.020053200Z"
    }
   },
   "outputs": [
    {
     "data": {
      "text/plain": "SEX\n1    525064\n2    523511\nName: count, dtype: int64"
     },
     "execution_count": 12,
     "metadata": {},
     "output_type": "execute_result"
    }
   ],
   "source": [
    "df.SEX.value_counts()"
   ]
  },
  {
   "cell_type": "code",
   "execution_count": 13,
   "metadata": {
    "collapsed": false,
    "ExecuteTime": {
     "end_time": "2024-01-21T08:51:53.142814400Z",
     "start_time": "2024-01-21T08:51:53.042089Z"
    }
   },
   "outputs": [
    {
     "data": {
      "text/plain": "(1048575,)"
     },
     "execution_count": 13,
     "metadata": {},
     "output_type": "execute_result"
    }
   ],
   "source": [
    "df.SEX.shape"
   ]
  },
  {
   "cell_type": "markdown",
   "metadata": {
    "collapsed": false
   },
   "source": [
    "Pregnant females ?"
   ]
  },
  {
   "cell_type": "code",
   "execution_count": 14,
   "metadata": {
    "collapsed": false,
    "ExecuteTime": {
     "end_time": "2024-01-21T08:51:53.490369Z",
     "start_time": "2024-01-21T08:51:53.068773200Z"
    }
   },
   "outputs": [
    {
     "data": {
      "text/plain": "0          2\n3          2\n5          2\n6          2\n7          2\n          ..\n1048563    2\n1048564    2\n1048565    2\n1048567    2\n1048569    2\nName: PREGNANT, Length: 525064, dtype: int64"
     },
     "execution_count": 14,
     "metadata": {},
     "output_type": "execute_result"
    }
   ],
   "source": [
    "df[(df['SEX'] == 1)]['PREGNANT']"
   ]
  },
  {
   "cell_type": "code",
   "execution_count": 15,
   "metadata": {
    "collapsed": false,
    "ExecuteTime": {
     "end_time": "2024-01-21T08:51:53.560228800Z",
     "start_time": "2024-01-21T08:51:53.213357600Z"
    }
   },
   "outputs": [
    {
     "data": {
      "text/plain": "PREGNANT\n2     513179\n1       8131\n98      3754\nName: count, dtype: int64"
     },
     "execution_count": 15,
     "metadata": {},
     "output_type": "execute_result"
    }
   ],
   "source": [
    "df[(df['SEX'] == 1)]['PREGNANT'].value_counts()"
   ]
  },
  {
   "cell_type": "markdown",
   "metadata": {
    "collapsed": false
   },
   "source": [
    "Pregnant males ?"
   ]
  },
  {
   "cell_type": "code",
   "execution_count": 16,
   "metadata": {
    "collapsed": false,
    "ExecuteTime": {
     "end_time": "2024-01-21T08:51:53.569859100Z",
     "start_time": "2024-01-21T08:51:53.357183500Z"
    }
   },
   "outputs": [
    {
     "data": {
      "text/plain": "1          97\n2          97\n4          97\n11         97\n12         97\n           ..\n1048570    97\n1048571    97\n1048572    97\n1048573    97\n1048574    97\nName: PREGNANT, Length: 523511, dtype: int64"
     },
     "execution_count": 16,
     "metadata": {},
     "output_type": "execute_result"
    }
   ],
   "source": [
    "df[(df['SEX'] == 2)]['PREGNANT']"
   ]
  },
  {
   "cell_type": "code",
   "execution_count": 17,
   "metadata": {
    "collapsed": false,
    "ExecuteTime": {
     "end_time": "2024-01-21T08:51:53.724435300Z",
     "start_time": "2024-01-21T08:51:53.459309200Z"
    }
   },
   "outputs": [
    {
     "data": {
      "text/plain": "PREGNANT\n97    523511\nName: count, dtype: int64"
     },
     "execution_count": 17,
     "metadata": {},
     "output_type": "execute_result"
    }
   ],
   "source": [
    "df[(df['SEX'] == 2) & (df['PREGNANT'])]['PREGNANT'].value_counts()"
   ]
  },
  {
   "cell_type": "code",
   "execution_count": 18,
   "metadata": {
    "collapsed": false,
    "ExecuteTime": {
     "end_time": "2024-01-21T08:51:53.724435300Z",
     "start_time": "2024-01-21T08:51:53.603304Z"
    }
   },
   "outputs": [
    {
     "data": {
      "text/plain": "PREGNANT\n97    523511\n2     513179\n1       8131\n98      3754\nName: count, dtype: int64"
     },
     "execution_count": 18,
     "metadata": {},
     "output_type": "execute_result"
    }
   ],
   "source": [
    "df['PREGNANT'].value_counts()"
   ]
  },
  {
   "cell_type": "markdown",
   "metadata": {
    "collapsed": false
   },
   "source": [
    "It looks like 97 indicates males that aren't pregnant. In other words, for those values we can just input 2 instead of 97"
   ]
  },
  {
   "cell_type": "code",
   "execution_count": 19,
   "metadata": {
    "collapsed": false,
    "ExecuteTime": {
     "end_time": "2024-01-21T08:51:53.725446400Z",
     "start_time": "2024-01-21T08:51:53.635440700Z"
    }
   },
   "outputs": [],
   "source": [
    "df['PREGNANT'].replace (97, 2, inplace = True)"
   ]
  },
  {
   "cell_type": "markdown",
   "metadata": {
    "collapsed": false
   },
   "source": [
    "Finally, 98 represents the females that are unknown to be pregnant or not"
   ]
  },
  {
   "cell_type": "code",
   "execution_count": 20,
   "metadata": {
    "collapsed": false,
    "ExecuteTime": {
     "end_time": "2024-01-21T08:51:53.725446400Z",
     "start_time": "2024-01-21T08:51:53.658520400Z"
    }
   },
   "outputs": [
    {
     "data": {
      "text/plain": "PREGNANT\n2     1036690\n1        8131\n98       3754\nName: count, dtype: int64"
     },
     "execution_count": 20,
     "metadata": {},
     "output_type": "execute_result"
    }
   ],
   "source": [
    "df['PREGNANT'].value_counts()"
   ]
  },
  {
   "cell_type": "markdown",
   "metadata": {},
   "source": [
    "We can simply mark then as NA as the data is logically Not Available"
   ]
  },
  {
   "cell_type": "code",
   "execution_count": 21,
   "metadata": {
    "ExecuteTime": {
     "end_time": "2024-01-21T08:51:53.973687500Z",
     "start_time": "2024-01-21T08:51:53.690473600Z"
    }
   },
   "outputs": [
    {
     "data": {
      "text/plain": "PREGNANT\n2    0.992218\n1    0.007782\nName: proportion, dtype: float64"
     },
     "execution_count": 21,
     "metadata": {},
     "output_type": "execute_result"
    }
   ],
   "source": [
    "df['PREGNANT'].replace(98, None, inplace = True)\n",
    "df['PREGNANT'].value_counts(normalize=True)"
   ]
  },
  {
   "cell_type": "markdown",
   "metadata": {
    "collapsed": false
   },
   "source": [
    "Most people aren't pregnant, this now makes a lot more sense"
   ]
  },
  {
   "cell_type": "markdown",
   "metadata": {
    "collapsed": false
   },
   "source": [
    "### 1.5 ICU values"
   ]
  },
  {
   "cell_type": "code",
   "execution_count": 22,
   "metadata": {
    "collapsed": false,
    "ExecuteTime": {
     "end_time": "2024-01-21T08:51:53.976719900Z",
     "start_time": "2024-01-21T08:51:53.750798700Z"
    }
   },
   "outputs": [
    {
     "data": {
      "text/plain": "ICU\n97    848544\n2     175685\n1      16858\n99      7488\nName: count, dtype: int64"
     },
     "execution_count": 22,
     "metadata": {},
     "output_type": "execute_result"
    }
   ],
   "source": [
    "df.ICU.value_counts()"
   ]
  },
  {
   "cell_type": "code",
   "execution_count": 23,
   "metadata": {
    "collapsed": false,
    "ExecuteTime": {
     "end_time": "2024-01-21T08:51:54.131596200Z",
     "start_time": "2024-01-21T08:51:53.786345200Z"
    }
   },
   "outputs": [
    {
     "data": {
      "text/plain": "ICU              1       2       97    99\nPATIENT_TYPE                             \n1                 0       0  848544     0\n2             16858  175685       0  7488",
      "text/html": "<div>\n<style scoped>\n    .dataframe tbody tr th:only-of-type {\n        vertical-align: middle;\n    }\n\n    .dataframe tbody tr th {\n        vertical-align: top;\n    }\n\n    .dataframe thead th {\n        text-align: right;\n    }\n</style>\n<table border=\"1\" class=\"dataframe\">\n  <thead>\n    <tr style=\"text-align: right;\">\n      <th>ICU</th>\n      <th>1</th>\n      <th>2</th>\n      <th>97</th>\n      <th>99</th>\n    </tr>\n    <tr>\n      <th>PATIENT_TYPE</th>\n      <th></th>\n      <th></th>\n      <th></th>\n      <th></th>\n    </tr>\n  </thead>\n  <tbody>\n    <tr>\n      <th>1</th>\n      <td>0</td>\n      <td>0</td>\n      <td>848544</td>\n      <td>0</td>\n    </tr>\n    <tr>\n      <th>2</th>\n      <td>16858</td>\n      <td>175685</td>\n      <td>0</td>\n      <td>7488</td>\n    </tr>\n  </tbody>\n</table>\n</div>"
     },
     "execution_count": 23,
     "metadata": {},
     "output_type": "execute_result"
    }
   ],
   "source": [
    "pd.crosstab(df['PATIENT_TYPE'], df['ICU'])"
   ]
  },
  {
   "cell_type": "markdown",
   "metadata": {
    "collapsed": false
   },
   "source": [
    "From the above we can see that the missing values of 97 are all corresponding to the values of PATIENT_TYPE = 1 which is for non hospitalized patients, while those of 99 are the missing values of the hospitalized patients, which again can not be told or predicted.\n",
    "\n",
    "So we can replace all the values of (97) with (2); since obviously patients who have never been hospitalized couldn't possibly be admitted to the ICU."
   ]
  },
  {
   "cell_type": "code",
   "execution_count": 24,
   "metadata": {
    "collapsed": false,
    "ExecuteTime": {
     "end_time": "2024-01-21T08:51:54.222751400Z",
     "start_time": "2024-01-21T08:51:54.002742900Z"
    }
   },
   "outputs": [],
   "source": [
    "df['ICU'].replace (97, 2, inplace = True)"
   ]
  },
  {
   "cell_type": "code",
   "execution_count": 25,
   "metadata": {
    "collapsed": false,
    "ExecuteTime": {
     "end_time": "2024-01-21T08:51:54.225697400Z",
     "start_time": "2024-01-21T08:51:54.039295200Z"
    }
   },
   "outputs": [
    {
     "data": {
      "text/plain": "ICU\n2     1024229\n1       16858\n99       7488\nName: count, dtype: int64"
     },
     "execution_count": 25,
     "metadata": {},
     "output_type": "execute_result"
    }
   ],
   "source": [
    "df.ICU.value_counts()"
   ]
  },
  {
   "cell_type": "markdown",
   "metadata": {
    "collapsed": false
   },
   "source": [
    "### 1.6 INTUBED values"
   ]
  },
  {
   "cell_type": "code",
   "execution_count": 26,
   "metadata": {
    "collapsed": false,
    "ExecuteTime": {
     "end_time": "2024-01-21T08:51:54.300048800Z",
     "start_time": "2024-01-21T08:51:54.070550300Z"
    }
   },
   "outputs": [
    {
     "data": {
      "text/plain": "INTUBED\n97    848544\n2     159050\n1      33656\n99      7325\nName: count, dtype: int64"
     },
     "execution_count": 26,
     "metadata": {},
     "output_type": "execute_result"
    }
   ],
   "source": [
    "df.INTUBED.value_counts()"
   ]
  },
  {
   "cell_type": "code",
   "execution_count": 27,
   "metadata": {
    "collapsed": false,
    "ExecuteTime": {
     "end_time": "2024-01-21T08:51:54.613362600Z",
     "start_time": "2024-01-21T08:51:54.096665100Z"
    }
   },
   "outputs": [
    {
     "data": {
      "text/plain": "INTUBED          1       2       97    99\nPATIENT_TYPE                             \n1                 0       0  848544     0\n2             33656  159050       0  7325",
      "text/html": "<div>\n<style scoped>\n    .dataframe tbody tr th:only-of-type {\n        vertical-align: middle;\n    }\n\n    .dataframe tbody tr th {\n        vertical-align: top;\n    }\n\n    .dataframe thead th {\n        text-align: right;\n    }\n</style>\n<table border=\"1\" class=\"dataframe\">\n  <thead>\n    <tr style=\"text-align: right;\">\n      <th>INTUBED</th>\n      <th>1</th>\n      <th>2</th>\n      <th>97</th>\n      <th>99</th>\n    </tr>\n    <tr>\n      <th>PATIENT_TYPE</th>\n      <th></th>\n      <th></th>\n      <th></th>\n      <th></th>\n    </tr>\n  </thead>\n  <tbody>\n    <tr>\n      <th>1</th>\n      <td>0</td>\n      <td>0</td>\n      <td>848544</td>\n      <td>0</td>\n    </tr>\n    <tr>\n      <th>2</th>\n      <td>33656</td>\n      <td>159050</td>\n      <td>0</td>\n      <td>7325</td>\n    </tr>\n  </tbody>\n</table>\n</div>"
     },
     "execution_count": 27,
     "metadata": {},
     "output_type": "execute_result"
    }
   ],
   "source": [
    "pd.crosstab(df['PATIENT_TYPE'], df['INTUBED'])"
   ]
  },
  {
   "cell_type": "markdown",
   "metadata": {
    "collapsed": false
   },
   "source": [
    "Same logic of the ICU patients: patients that are intubed necessarily are also hospitalized"
   ]
  },
  {
   "cell_type": "code",
   "execution_count": 28,
   "metadata": {
    "collapsed": false,
    "ExecuteTime": {
     "end_time": "2024-01-21T08:51:54.673016900Z",
     "start_time": "2024-01-21T08:51:54.278650300Z"
    }
   },
   "outputs": [],
   "source": [
    "df['INTUBED'].replace (97, 2, inplace = True)"
   ]
  },
  {
   "cell_type": "code",
   "execution_count": 29,
   "metadata": {
    "collapsed": false,
    "ExecuteTime": {
     "end_time": "2024-01-21T08:51:54.735650600Z",
     "start_time": "2024-01-21T08:51:54.307618700Z"
    }
   },
   "outputs": [
    {
     "data": {
      "text/plain": "INTUBED\n2     1007594\n1       33656\n99       7325\nName: count, dtype: int64"
     },
     "execution_count": 29,
     "metadata": {},
     "output_type": "execute_result"
    }
   ],
   "source": [
    "df.INTUBED.value_counts()"
   ]
  },
  {
   "cell_type": "markdown",
   "metadata": {
    "collapsed": false
   },
   "source": [
    "We'll replace everything that we can't infer with NaN"
   ]
  },
  {
   "cell_type": "code",
   "execution_count": 30,
   "metadata": {
    "collapsed": false,
    "ExecuteTime": {
     "end_time": "2024-01-21T08:51:55.017755200Z",
     "start_time": "2024-01-21T08:51:54.340412100Z"
    }
   },
   "outputs": [],
   "source": [
    "for i in [98, 99]:\n",
    "   df.replace(i , np.nan, inplace = True)"
   ]
  },
  {
   "cell_type": "markdown",
   "metadata": {
    "collapsed": false
   },
   "source": [
    "#### How does the data look now ?"
   ]
  },
  {
   "cell_type": "code",
   "execution_count": 31,
   "metadata": {
    "collapsed": false,
    "ExecuteTime": {
     "end_time": "2024-01-21T08:51:55.397975100Z",
     "start_time": "2024-01-21T08:51:54.740743100Z"
    }
   },
   "outputs": [
    {
     "data": {
      "text/plain": "USMER                       0\nMEDICAL_UNIT                0\nSEX                         0\nPATIENT_TYPE                0\nINTUBED                  7325\nPNEUMONIA               16003\nAGE                       210\nPREGNANT                 3754\nDIABETES                 3338\nCOPD                     3003\nASTHMA                   2979\nINMSUPR                  3404\nHIPERTENSION             3104\nOTHER_DISEASE            5045\nCARDIOVASCULAR           3076\nOBESITY                  3032\nRENAL_CHRONIC            3006\nTOBACCO                  3220\nCLASIFFICATION_FINAL        0\nICU                      7488\nDEAD                        0\ndtype: int64"
     },
     "execution_count": 31,
     "metadata": {},
     "output_type": "execute_result"
    }
   ],
   "source": [
    "# First, let's temporarily reverse the step we did on \"DATE_DIED\" feature; as they are not really missing:\n",
    "df_null2 = df.copy()\n",
    "\n",
    "#Let's check again for our missing values:\n",
    "df_null2.isnull().sum()"
   ]
  },
  {
   "cell_type": "code",
   "execution_count": 32,
   "metadata": {
    "collapsed": false,
    "ExecuteTime": {
     "end_time": "2024-01-21T08:51:57.506091500Z",
     "start_time": "2024-01-21T08:51:55.061718300Z"
    }
   },
   "outputs": [
    {
     "data": {
      "text/plain": "                        mean     std  min   25%   50%   75%    max\nUSMER                  1.632   0.482  1.0   1.0   2.0   2.0    2.0\nMEDICAL_UNIT           8.981   3.723  1.0   4.0  12.0  12.0   13.0\nSEX                    1.499   0.500  1.0   1.0   1.0   2.0    2.0\nPATIENT_TYPE           1.191   0.393  1.0   1.0   1.0   1.0    2.0\nINTUBED                1.968   0.177  1.0   2.0   2.0   2.0    2.0\nPNEUMONIA              1.864   0.342  1.0   2.0   2.0   2.0    2.0\nAGE                   41.783  16.890  0.0  30.0  40.0  53.0  121.0\nDIABETES               1.880   0.324  1.0   2.0   2.0   2.0    2.0\nCOPD                   1.986   0.119  1.0   2.0   2.0   2.0    2.0\nASTHMA                 1.970   0.171  1.0   2.0   2.0   2.0    2.0\nINMSUPR                1.986   0.116  1.0   2.0   2.0   2.0    2.0\nHIPERTENSION           1.844   0.363  1.0   2.0   2.0   2.0    2.0\nOTHER_DISEASE          1.973   0.162  1.0   2.0   2.0   2.0    2.0\nCARDIOVASCULAR         1.980   0.140  1.0   2.0   2.0   2.0    2.0\nOBESITY                1.847   0.360  1.0   2.0   2.0   2.0    2.0\nRENAL_CHRONIC          1.982   0.133  1.0   2.0   2.0   2.0    2.0\nTOBACCO                1.919   0.272  1.0   2.0   2.0   2.0    2.0\nCLASIFFICATION_FINAL   5.306   1.881  1.0   3.0   6.0   7.0    7.0\nICU                    1.984   0.126  1.0   2.0   2.0   2.0    2.0\nDEAD                   1.927   0.261  1.0   2.0   2.0   2.0    2.0",
      "text/html": "<div>\n<style scoped>\n    .dataframe tbody tr th:only-of-type {\n        vertical-align: middle;\n    }\n\n    .dataframe tbody tr th {\n        vertical-align: top;\n    }\n\n    .dataframe thead th {\n        text-align: right;\n    }\n</style>\n<table border=\"1\" class=\"dataframe\">\n  <thead>\n    <tr style=\"text-align: right;\">\n      <th></th>\n      <th>mean</th>\n      <th>std</th>\n      <th>min</th>\n      <th>25%</th>\n      <th>50%</th>\n      <th>75%</th>\n      <th>max</th>\n    </tr>\n  </thead>\n  <tbody>\n    <tr>\n      <th>USMER</th>\n      <td>1.632</td>\n      <td>0.482</td>\n      <td>1.0</td>\n      <td>1.0</td>\n      <td>2.0</td>\n      <td>2.0</td>\n      <td>2.0</td>\n    </tr>\n    <tr>\n      <th>MEDICAL_UNIT</th>\n      <td>8.981</td>\n      <td>3.723</td>\n      <td>1.0</td>\n      <td>4.0</td>\n      <td>12.0</td>\n      <td>12.0</td>\n      <td>13.0</td>\n    </tr>\n    <tr>\n      <th>SEX</th>\n      <td>1.499</td>\n      <td>0.500</td>\n      <td>1.0</td>\n      <td>1.0</td>\n      <td>1.0</td>\n      <td>2.0</td>\n      <td>2.0</td>\n    </tr>\n    <tr>\n      <th>PATIENT_TYPE</th>\n      <td>1.191</td>\n      <td>0.393</td>\n      <td>1.0</td>\n      <td>1.0</td>\n      <td>1.0</td>\n      <td>1.0</td>\n      <td>2.0</td>\n    </tr>\n    <tr>\n      <th>INTUBED</th>\n      <td>1.968</td>\n      <td>0.177</td>\n      <td>1.0</td>\n      <td>2.0</td>\n      <td>2.0</td>\n      <td>2.0</td>\n      <td>2.0</td>\n    </tr>\n    <tr>\n      <th>PNEUMONIA</th>\n      <td>1.864</td>\n      <td>0.342</td>\n      <td>1.0</td>\n      <td>2.0</td>\n      <td>2.0</td>\n      <td>2.0</td>\n      <td>2.0</td>\n    </tr>\n    <tr>\n      <th>AGE</th>\n      <td>41.783</td>\n      <td>16.890</td>\n      <td>0.0</td>\n      <td>30.0</td>\n      <td>40.0</td>\n      <td>53.0</td>\n      <td>121.0</td>\n    </tr>\n    <tr>\n      <th>DIABETES</th>\n      <td>1.880</td>\n      <td>0.324</td>\n      <td>1.0</td>\n      <td>2.0</td>\n      <td>2.0</td>\n      <td>2.0</td>\n      <td>2.0</td>\n    </tr>\n    <tr>\n      <th>COPD</th>\n      <td>1.986</td>\n      <td>0.119</td>\n      <td>1.0</td>\n      <td>2.0</td>\n      <td>2.0</td>\n      <td>2.0</td>\n      <td>2.0</td>\n    </tr>\n    <tr>\n      <th>ASTHMA</th>\n      <td>1.970</td>\n      <td>0.171</td>\n      <td>1.0</td>\n      <td>2.0</td>\n      <td>2.0</td>\n      <td>2.0</td>\n      <td>2.0</td>\n    </tr>\n    <tr>\n      <th>INMSUPR</th>\n      <td>1.986</td>\n      <td>0.116</td>\n      <td>1.0</td>\n      <td>2.0</td>\n      <td>2.0</td>\n      <td>2.0</td>\n      <td>2.0</td>\n    </tr>\n    <tr>\n      <th>HIPERTENSION</th>\n      <td>1.844</td>\n      <td>0.363</td>\n      <td>1.0</td>\n      <td>2.0</td>\n      <td>2.0</td>\n      <td>2.0</td>\n      <td>2.0</td>\n    </tr>\n    <tr>\n      <th>OTHER_DISEASE</th>\n      <td>1.973</td>\n      <td>0.162</td>\n      <td>1.0</td>\n      <td>2.0</td>\n      <td>2.0</td>\n      <td>2.0</td>\n      <td>2.0</td>\n    </tr>\n    <tr>\n      <th>CARDIOVASCULAR</th>\n      <td>1.980</td>\n      <td>0.140</td>\n      <td>1.0</td>\n      <td>2.0</td>\n      <td>2.0</td>\n      <td>2.0</td>\n      <td>2.0</td>\n    </tr>\n    <tr>\n      <th>OBESITY</th>\n      <td>1.847</td>\n      <td>0.360</td>\n      <td>1.0</td>\n      <td>2.0</td>\n      <td>2.0</td>\n      <td>2.0</td>\n      <td>2.0</td>\n    </tr>\n    <tr>\n      <th>RENAL_CHRONIC</th>\n      <td>1.982</td>\n      <td>0.133</td>\n      <td>1.0</td>\n      <td>2.0</td>\n      <td>2.0</td>\n      <td>2.0</td>\n      <td>2.0</td>\n    </tr>\n    <tr>\n      <th>TOBACCO</th>\n      <td>1.919</td>\n      <td>0.272</td>\n      <td>1.0</td>\n      <td>2.0</td>\n      <td>2.0</td>\n      <td>2.0</td>\n      <td>2.0</td>\n    </tr>\n    <tr>\n      <th>CLASIFFICATION_FINAL</th>\n      <td>5.306</td>\n      <td>1.881</td>\n      <td>1.0</td>\n      <td>3.0</td>\n      <td>6.0</td>\n      <td>7.0</td>\n      <td>7.0</td>\n    </tr>\n    <tr>\n      <th>ICU</th>\n      <td>1.984</td>\n      <td>0.126</td>\n      <td>1.0</td>\n      <td>2.0</td>\n      <td>2.0</td>\n      <td>2.0</td>\n      <td>2.0</td>\n    </tr>\n    <tr>\n      <th>DEAD</th>\n      <td>1.927</td>\n      <td>0.261</td>\n      <td>1.0</td>\n      <td>2.0</td>\n      <td>2.0</td>\n      <td>2.0</td>\n      <td>2.0</td>\n    </tr>\n  </tbody>\n</table>\n</div>"
     },
     "execution_count": 32,
     "metadata": {},
     "output_type": "execute_result"
    }
   ],
   "source": [
    "df.describe().round(3).T.drop('count', axis = 1)"
   ]
  },
  {
   "cell_type": "markdown",
   "metadata": {
    "collapsed": false
   },
   "source": [
    "Looks much better already !\n",
    "What about a heatmap ?"
   ]
  },
  {
   "cell_type": "code",
   "execution_count": 33,
   "metadata": {
    "collapsed": false,
    "ExecuteTime": {
     "end_time": "2024-01-21T08:51:57.556804Z",
     "start_time": "2024-01-21T08:51:57.414524Z"
    }
   },
   "outputs": [],
   "source": [
    "# sns.heatmap(df_null2.isnull(), cbar=False)\n",
    "# plt.title('After Data cleanup', color = 'black', fontsize = 15)\n",
    "# plt.show()"
   ]
  },
  {
   "cell_type": "code",
   "execution_count": 34,
   "metadata": {
    "collapsed": false,
    "ExecuteTime": {
     "end_time": "2024-01-21T08:51:57.557806700Z",
     "start_time": "2024-01-21T08:51:57.442928900Z"
    }
   },
   "outputs": [],
   "source": [
    "# fig, ax = plt.subplots(figsize=(20, 15))\n",
    "# mask=np.triu(np.ones_like(df.corr()))\n",
    "# sns.heatmap(df.corr(), mask = mask, annot = True, cmap = \"Blues\", vmin = -1, vmax = 1)\n",
    "# plt.title('Data Correlation', color = 'black', fontsize = 30)\n",
    "# plt.show()"
   ]
  },
  {
   "cell_type": "markdown",
   "metadata": {},
   "source": [
    "### 1.7 Hospitalization"
   ]
  },
  {
   "cell_type": "markdown",
   "metadata": {},
   "source": [
    "Hospitalization is described by the `PATIENT_TYPE` column. It has a value of either 1: at home or 2: in hospital. We can change this column to a boolean column which, instead of describing the patient type, will describe if the patient is hospitalized or not. That means that we will have to change the column name to `HOSPITALIZED`, but we'll also have to invert all the values."
   ]
  },
  {
   "cell_type": "code",
   "execution_count": 35,
   "metadata": {
    "collapsed": false,
    "ExecuteTime": {
     "end_time": "2024-01-21T08:51:57.558797Z",
     "start_time": "2024-01-21T08:51:57.468550Z"
    }
   },
   "outputs": [
    {
     "data": {
      "text/plain": "   USMER  MEDICAL_UNIT  SEX  PATIENT_TYPE  INTUBED  PNEUMONIA   AGE PREGNANT  \\\n0      2             1    1             1      2.0        1.0  65.0        2   \n1      2             1    2             1      2.0        1.0  72.0        2   \n2      2             1    2             2      1.0        2.0  55.0        2   \n3      2             1    1             1      2.0        2.0  53.0        2   \n4      2             1    2             1      2.0        2.0  68.0        2   \n\n   DIABETES  COPD  ...  INMSUPR  HIPERTENSION  OTHER_DISEASE  CARDIOVASCULAR  \\\n0       2.0   2.0  ...      2.0           1.0            2.0             2.0   \n1       2.0   2.0  ...      2.0           1.0            2.0             2.0   \n2       1.0   2.0  ...      2.0           2.0            2.0             2.0   \n3       2.0   2.0  ...      2.0           2.0            2.0             2.0   \n4       1.0   2.0  ...      2.0           1.0            2.0             2.0   \n\n   OBESITY  RENAL_CHRONIC  TOBACCO  CLASIFFICATION_FINAL  ICU  DEAD  \n0      2.0            2.0      2.0                     3  2.0     1  \n1      1.0            1.0      2.0                     5  2.0     1  \n2      2.0            2.0      2.0                     3  2.0     1  \n3      2.0            2.0      2.0                     7  2.0     1  \n4      2.0            2.0      2.0                     3  2.0     1  \n\n[5 rows x 21 columns]",
      "text/html": "<div>\n<style scoped>\n    .dataframe tbody tr th:only-of-type {\n        vertical-align: middle;\n    }\n\n    .dataframe tbody tr th {\n        vertical-align: top;\n    }\n\n    .dataframe thead th {\n        text-align: right;\n    }\n</style>\n<table border=\"1\" class=\"dataframe\">\n  <thead>\n    <tr style=\"text-align: right;\">\n      <th></th>\n      <th>USMER</th>\n      <th>MEDICAL_UNIT</th>\n      <th>SEX</th>\n      <th>PATIENT_TYPE</th>\n      <th>INTUBED</th>\n      <th>PNEUMONIA</th>\n      <th>AGE</th>\n      <th>PREGNANT</th>\n      <th>DIABETES</th>\n      <th>COPD</th>\n      <th>...</th>\n      <th>INMSUPR</th>\n      <th>HIPERTENSION</th>\n      <th>OTHER_DISEASE</th>\n      <th>CARDIOVASCULAR</th>\n      <th>OBESITY</th>\n      <th>RENAL_CHRONIC</th>\n      <th>TOBACCO</th>\n      <th>CLASIFFICATION_FINAL</th>\n      <th>ICU</th>\n      <th>DEAD</th>\n    </tr>\n  </thead>\n  <tbody>\n    <tr>\n      <th>0</th>\n      <td>2</td>\n      <td>1</td>\n      <td>1</td>\n      <td>1</td>\n      <td>2.0</td>\n      <td>1.0</td>\n      <td>65.0</td>\n      <td>2</td>\n      <td>2.0</td>\n      <td>2.0</td>\n      <td>...</td>\n      <td>2.0</td>\n      <td>1.0</td>\n      <td>2.0</td>\n      <td>2.0</td>\n      <td>2.0</td>\n      <td>2.0</td>\n      <td>2.0</td>\n      <td>3</td>\n      <td>2.0</td>\n      <td>1</td>\n    </tr>\n    <tr>\n      <th>1</th>\n      <td>2</td>\n      <td>1</td>\n      <td>2</td>\n      <td>1</td>\n      <td>2.0</td>\n      <td>1.0</td>\n      <td>72.0</td>\n      <td>2</td>\n      <td>2.0</td>\n      <td>2.0</td>\n      <td>...</td>\n      <td>2.0</td>\n      <td>1.0</td>\n      <td>2.0</td>\n      <td>2.0</td>\n      <td>1.0</td>\n      <td>1.0</td>\n      <td>2.0</td>\n      <td>5</td>\n      <td>2.0</td>\n      <td>1</td>\n    </tr>\n    <tr>\n      <th>2</th>\n      <td>2</td>\n      <td>1</td>\n      <td>2</td>\n      <td>2</td>\n      <td>1.0</td>\n      <td>2.0</td>\n      <td>55.0</td>\n      <td>2</td>\n      <td>1.0</td>\n      <td>2.0</td>\n      <td>...</td>\n      <td>2.0</td>\n      <td>2.0</td>\n      <td>2.0</td>\n      <td>2.0</td>\n      <td>2.0</td>\n      <td>2.0</td>\n      <td>2.0</td>\n      <td>3</td>\n      <td>2.0</td>\n      <td>1</td>\n    </tr>\n    <tr>\n      <th>3</th>\n      <td>2</td>\n      <td>1</td>\n      <td>1</td>\n      <td>1</td>\n      <td>2.0</td>\n      <td>2.0</td>\n      <td>53.0</td>\n      <td>2</td>\n      <td>2.0</td>\n      <td>2.0</td>\n      <td>...</td>\n      <td>2.0</td>\n      <td>2.0</td>\n      <td>2.0</td>\n      <td>2.0</td>\n      <td>2.0</td>\n      <td>2.0</td>\n      <td>2.0</td>\n      <td>7</td>\n      <td>2.0</td>\n      <td>1</td>\n    </tr>\n    <tr>\n      <th>4</th>\n      <td>2</td>\n      <td>1</td>\n      <td>2</td>\n      <td>1</td>\n      <td>2.0</td>\n      <td>2.0</td>\n      <td>68.0</td>\n      <td>2</td>\n      <td>1.0</td>\n      <td>2.0</td>\n      <td>...</td>\n      <td>2.0</td>\n      <td>1.0</td>\n      <td>2.0</td>\n      <td>2.0</td>\n      <td>2.0</td>\n      <td>2.0</td>\n      <td>2.0</td>\n      <td>3</td>\n      <td>2.0</td>\n      <td>1</td>\n    </tr>\n  </tbody>\n</table>\n<p>5 rows × 21 columns</p>\n</div>"
     },
     "execution_count": 35,
     "metadata": {},
     "output_type": "execute_result"
    }
   ],
   "source": [
    "df.head()"
   ]
  },
  {
   "cell_type": "code",
   "execution_count": 36,
   "metadata": {
    "ExecuteTime": {
     "end_time": "2024-01-21T08:51:57.981949100Z",
     "start_time": "2024-01-21T08:51:57.528772100Z"
    }
   },
   "outputs": [
    {
     "data": {
      "text/plain": "   HOSPITALIZED  PATIENT_TYPE\n0             2             1\n1             2             1\n2             1             2\n3             2             1\n4             2             1",
      "text/html": "<div>\n<style scoped>\n    .dataframe tbody tr th:only-of-type {\n        vertical-align: middle;\n    }\n\n    .dataframe tbody tr th {\n        vertical-align: top;\n    }\n\n    .dataframe thead th {\n        text-align: right;\n    }\n</style>\n<table border=\"1\" class=\"dataframe\">\n  <thead>\n    <tr style=\"text-align: right;\">\n      <th></th>\n      <th>HOSPITALIZED</th>\n      <th>PATIENT_TYPE</th>\n    </tr>\n  </thead>\n  <tbody>\n    <tr>\n      <th>0</th>\n      <td>2</td>\n      <td>1</td>\n    </tr>\n    <tr>\n      <th>1</th>\n      <td>2</td>\n      <td>1</td>\n    </tr>\n    <tr>\n      <th>2</th>\n      <td>1</td>\n      <td>2</td>\n    </tr>\n    <tr>\n      <th>3</th>\n      <td>2</td>\n      <td>1</td>\n    </tr>\n    <tr>\n      <th>4</th>\n      <td>2</td>\n      <td>1</td>\n    </tr>\n  </tbody>\n</table>\n</div>"
     },
     "execution_count": 36,
     "metadata": {},
     "output_type": "execute_result"
    }
   ],
   "source": [
    "df[\"HOSPITALIZED\"] = [1 if i == 2 else 2 for i in df[\"PATIENT_TYPE\"]]\n",
    "df[[\"HOSPITALIZED\", \"PATIENT_TYPE\"]].head()"
   ]
  },
  {
   "cell_type": "markdown",
   "metadata": {},
   "source": [
    "We'll drop the column as it is now redundant"
   ]
  },
  {
   "cell_type": "code",
   "execution_count": 37,
   "metadata": {
    "ExecuteTime": {
     "end_time": "2024-01-21T08:51:58.216378100Z",
     "start_time": "2024-01-21T08:51:57.877905400Z"
    }
   },
   "outputs": [
    {
     "data": {
      "text/plain": "   USMER  MEDICAL_UNIT  SEX  INTUBED  PNEUMONIA   AGE PREGNANT  DIABETES  \\\n0      2             1    1      2.0        1.0  65.0        2       2.0   \n1      2             1    2      2.0        1.0  72.0        2       2.0   \n2      2             1    2      1.0        2.0  55.0        2       1.0   \n3      2             1    1      2.0        2.0  53.0        2       2.0   \n4      2             1    2      2.0        2.0  68.0        2       1.0   \n\n   COPD  ASTHMA  ...  HIPERTENSION  OTHER_DISEASE  CARDIOVASCULAR  OBESITY  \\\n0   2.0     2.0  ...           1.0            2.0             2.0      2.0   \n1   2.0     2.0  ...           1.0            2.0             2.0      1.0   \n2   2.0     2.0  ...           2.0            2.0             2.0      2.0   \n3   2.0     2.0  ...           2.0            2.0             2.0      2.0   \n4   2.0     2.0  ...           1.0            2.0             2.0      2.0   \n\n   RENAL_CHRONIC  TOBACCO  CLASIFFICATION_FINAL  ICU  DEAD  HOSPITALIZED  \n0            2.0      2.0                     3  2.0     1             2  \n1            1.0      2.0                     5  2.0     1             2  \n2            2.0      2.0                     3  2.0     1             1  \n3            2.0      2.0                     7  2.0     1             2  \n4            2.0      2.0                     3  2.0     1             2  \n\n[5 rows x 21 columns]",
      "text/html": "<div>\n<style scoped>\n    .dataframe tbody tr th:only-of-type {\n        vertical-align: middle;\n    }\n\n    .dataframe tbody tr th {\n        vertical-align: top;\n    }\n\n    .dataframe thead th {\n        text-align: right;\n    }\n</style>\n<table border=\"1\" class=\"dataframe\">\n  <thead>\n    <tr style=\"text-align: right;\">\n      <th></th>\n      <th>USMER</th>\n      <th>MEDICAL_UNIT</th>\n      <th>SEX</th>\n      <th>INTUBED</th>\n      <th>PNEUMONIA</th>\n      <th>AGE</th>\n      <th>PREGNANT</th>\n      <th>DIABETES</th>\n      <th>COPD</th>\n      <th>ASTHMA</th>\n      <th>...</th>\n      <th>HIPERTENSION</th>\n      <th>OTHER_DISEASE</th>\n      <th>CARDIOVASCULAR</th>\n      <th>OBESITY</th>\n      <th>RENAL_CHRONIC</th>\n      <th>TOBACCO</th>\n      <th>CLASIFFICATION_FINAL</th>\n      <th>ICU</th>\n      <th>DEAD</th>\n      <th>HOSPITALIZED</th>\n    </tr>\n  </thead>\n  <tbody>\n    <tr>\n      <th>0</th>\n      <td>2</td>\n      <td>1</td>\n      <td>1</td>\n      <td>2.0</td>\n      <td>1.0</td>\n      <td>65.0</td>\n      <td>2</td>\n      <td>2.0</td>\n      <td>2.0</td>\n      <td>2.0</td>\n      <td>...</td>\n      <td>1.0</td>\n      <td>2.0</td>\n      <td>2.0</td>\n      <td>2.0</td>\n      <td>2.0</td>\n      <td>2.0</td>\n      <td>3</td>\n      <td>2.0</td>\n      <td>1</td>\n      <td>2</td>\n    </tr>\n    <tr>\n      <th>1</th>\n      <td>2</td>\n      <td>1</td>\n      <td>2</td>\n      <td>2.0</td>\n      <td>1.0</td>\n      <td>72.0</td>\n      <td>2</td>\n      <td>2.0</td>\n      <td>2.0</td>\n      <td>2.0</td>\n      <td>...</td>\n      <td>1.0</td>\n      <td>2.0</td>\n      <td>2.0</td>\n      <td>1.0</td>\n      <td>1.0</td>\n      <td>2.0</td>\n      <td>5</td>\n      <td>2.0</td>\n      <td>1</td>\n      <td>2</td>\n    </tr>\n    <tr>\n      <th>2</th>\n      <td>2</td>\n      <td>1</td>\n      <td>2</td>\n      <td>1.0</td>\n      <td>2.0</td>\n      <td>55.0</td>\n      <td>2</td>\n      <td>1.0</td>\n      <td>2.0</td>\n      <td>2.0</td>\n      <td>...</td>\n      <td>2.0</td>\n      <td>2.0</td>\n      <td>2.0</td>\n      <td>2.0</td>\n      <td>2.0</td>\n      <td>2.0</td>\n      <td>3</td>\n      <td>2.0</td>\n      <td>1</td>\n      <td>1</td>\n    </tr>\n    <tr>\n      <th>3</th>\n      <td>2</td>\n      <td>1</td>\n      <td>1</td>\n      <td>2.0</td>\n      <td>2.0</td>\n      <td>53.0</td>\n      <td>2</td>\n      <td>2.0</td>\n      <td>2.0</td>\n      <td>2.0</td>\n      <td>...</td>\n      <td>2.0</td>\n      <td>2.0</td>\n      <td>2.0</td>\n      <td>2.0</td>\n      <td>2.0</td>\n      <td>2.0</td>\n      <td>7</td>\n      <td>2.0</td>\n      <td>1</td>\n      <td>2</td>\n    </tr>\n    <tr>\n      <th>4</th>\n      <td>2</td>\n      <td>1</td>\n      <td>2</td>\n      <td>2.0</td>\n      <td>2.0</td>\n      <td>68.0</td>\n      <td>2</td>\n      <td>1.0</td>\n      <td>2.0</td>\n      <td>2.0</td>\n      <td>...</td>\n      <td>1.0</td>\n      <td>2.0</td>\n      <td>2.0</td>\n      <td>2.0</td>\n      <td>2.0</td>\n      <td>2.0</td>\n      <td>3</td>\n      <td>2.0</td>\n      <td>1</td>\n      <td>2</td>\n    </tr>\n  </tbody>\n</table>\n<p>5 rows × 21 columns</p>\n</div>"
     },
     "execution_count": 37,
     "metadata": {},
     "output_type": "execute_result"
    }
   ],
   "source": [
    "df = df.drop(\"PATIENT_TYPE\", axis=1)\n",
    "df.head()"
   ]
  },
  {
   "cell_type": "markdown",
   "metadata": {},
   "source": [
    "### 1.8 Readability fix"
   ]
  },
  {
   "cell_type": "markdown",
   "metadata": {},
   "source": [
    "As we can see, the column names are not very readable, so we'll just fix that. In the original datasheet, it is said that the boolean values, 1 and 2, are actually \"Yes\" and \"No\" respectively. We'll just change that as well to make them boolean."
   ]
  },
  {
   "cell_type": "code",
   "execution_count": 38,
   "metadata": {
    "ExecuteTime": {
     "end_time": "2024-01-21T08:51:58.937787900Z",
     "start_time": "2024-01-21T08:51:58.088849Z"
    }
   },
   "outputs": [
    {
     "data": {
      "text/plain": "['USMER',\n 'SEX',\n 'INTUBED',\n 'PNEUMONIA',\n 'PREGNANT',\n 'DIABETES',\n 'COPD',\n 'ASTHMA',\n 'INMSUPR',\n 'HIPERTENSION',\n 'OTHER_DISEASE',\n 'CARDIOVASCULAR',\n 'OBESITY',\n 'RENAL_CHRONIC',\n 'TOBACCO',\n 'ICU',\n 'DEAD',\n 'HOSPITALIZED']"
     },
     "execution_count": 38,
     "metadata": {},
     "output_type": "execute_result"
    }
   ],
   "source": [
    "# Get columns whose data unique count is equal to 2 and are either 1, 2 or NA\n",
    "binary_cols = [col for col in df.columns if df[col].nunique() == 2 and df[col].dropna().value_counts().index.isin([1,2]).all()]\n",
    "binary_cols"
   ]
  },
  {
   "cell_type": "markdown",
   "metadata": {},
   "source": [
    "The number of boolean columns described in the datasheet is 15, but we have 16. The culprit is the `USMER` column, which does have only two values, but do not describe a boolean value. We'll just remove it from the list."
   ]
  },
  {
   "cell_type": "code",
   "execution_count": 39,
   "metadata": {
    "ExecuteTime": {
     "end_time": "2024-01-21T08:51:58.938791700Z",
     "start_time": "2024-01-21T08:51:58.820126800Z"
    }
   },
   "outputs": [
    {
     "data": {
      "text/plain": "['SEX',\n 'INTUBED',\n 'PNEUMONIA',\n 'PREGNANT',\n 'DIABETES',\n 'COPD',\n 'ASTHMA',\n 'INMSUPR',\n 'HIPERTENSION',\n 'OTHER_DISEASE',\n 'CARDIOVASCULAR',\n 'OBESITY',\n 'RENAL_CHRONIC',\n 'TOBACCO',\n 'ICU',\n 'DEAD',\n 'HOSPITALIZED']"
     },
     "execution_count": 39,
     "metadata": {},
     "output_type": "execute_result"
    }
   ],
   "source": [
    "binary_cols.remove(\"USMER\")\n",
    "binary_cols"
   ]
  },
  {
   "cell_type": "markdown",
   "metadata": {},
   "source": [
    "Now that we have a list of boolean value columns, we can change the values to strings of either \"Y\" or \"N\" and then change the column type to categorical."
   ]
  },
  {
   "cell_type": "code",
   "execution_count": 40,
   "metadata": {
    "ExecuteTime": {
     "end_time": "2024-01-21T08:51:59.018702900Z",
     "start_time": "2024-01-21T08:51:58.842375Z"
    }
   },
   "outputs": [],
   "source": [
    "# Change the values of the binary columns to \"Y\" if 1, \"N\" if 2\n",
    "# for col in binary_cols:\n",
    "#     df[col] = df[col].replace({1: \"Y\", 2: \"N\"})\n",
    "# df.describe().round(3).T.drop('count', axis = 1)"
   ]
  },
  {
   "cell_type": "markdown",
   "metadata": {},
   "source": [
    "### 1.9 Categorizing the columns"
   ]
  },
  {
   "cell_type": "code",
   "execution_count": 41,
   "metadata": {
    "ExecuteTime": {
     "end_time": "2024-01-21T08:51:59.271689700Z",
     "start_time": "2024-01-21T08:51:58.857424600Z"
    }
   },
   "outputs": [
    {
     "data": {
      "text/plain": "USMER                     2\nMEDICAL_UNIT             13\nSEX                       2\nINTUBED                   2\nPNEUMONIA                 2\nAGE                     119\nPREGNANT                  2\nDIABETES                  2\nCOPD                      2\nASTHMA                    2\nINMSUPR                   2\nHIPERTENSION              2\nOTHER_DISEASE             2\nCARDIOVASCULAR            2\nOBESITY                   2\nRENAL_CHRONIC             2\nTOBACCO                   2\nCLASIFFICATION_FINAL      7\nICU                       2\nDEAD                      2\nHOSPITALIZED              2\ndtype: int64"
     },
     "execution_count": 41,
     "metadata": {},
     "output_type": "execute_result"
    }
   ],
   "source": [
    "# For every columns, display the number of unique values\n",
    "df.nunique()"
   ]
  },
  {
   "cell_type": "code",
   "execution_count": 42,
   "metadata": {
    "ExecuteTime": {
     "end_time": "2024-01-21T08:52:01.743789900Z",
     "start_time": "2024-01-21T08:51:59.086858700Z"
    }
   },
   "outputs": [
    {
     "data": {
      "text/plain": "                        mean     std  min   25%   50%   75%    max\nUSMER                  1.632   0.482  1.0   1.0   2.0   2.0    2.0\nMEDICAL_UNIT           8.981   3.723  1.0   4.0  12.0  12.0   13.0\nSEX                    1.499   0.500  1.0   1.0   1.0   2.0    2.0\nINTUBED                1.968   0.177  1.0   2.0   2.0   2.0    2.0\nPNEUMONIA              1.864   0.342  1.0   2.0   2.0   2.0    2.0\nAGE                   41.783  16.890  0.0  30.0  40.0  53.0  121.0\nDIABETES               1.880   0.324  1.0   2.0   2.0   2.0    2.0\nCOPD                   1.986   0.119  1.0   2.0   2.0   2.0    2.0\nASTHMA                 1.970   0.171  1.0   2.0   2.0   2.0    2.0\nINMSUPR                1.986   0.116  1.0   2.0   2.0   2.0    2.0\nHIPERTENSION           1.844   0.363  1.0   2.0   2.0   2.0    2.0\nOTHER_DISEASE          1.973   0.162  1.0   2.0   2.0   2.0    2.0\nCARDIOVASCULAR         1.980   0.140  1.0   2.0   2.0   2.0    2.0\nOBESITY                1.847   0.360  1.0   2.0   2.0   2.0    2.0\nRENAL_CHRONIC          1.982   0.133  1.0   2.0   2.0   2.0    2.0\nTOBACCO                1.919   0.272  1.0   2.0   2.0   2.0    2.0\nCLASIFFICATION_FINAL   5.306   1.881  1.0   3.0   6.0   7.0    7.0\nICU                    1.984   0.126  1.0   2.0   2.0   2.0    2.0\nDEAD                   1.927   0.261  1.0   2.0   2.0   2.0    2.0\nHOSPITALIZED           1.809   0.393  1.0   2.0   2.0   2.0    2.0",
      "text/html": "<div>\n<style scoped>\n    .dataframe tbody tr th:only-of-type {\n        vertical-align: middle;\n    }\n\n    .dataframe tbody tr th {\n        vertical-align: top;\n    }\n\n    .dataframe thead th {\n        text-align: right;\n    }\n</style>\n<table border=\"1\" class=\"dataframe\">\n  <thead>\n    <tr style=\"text-align: right;\">\n      <th></th>\n      <th>mean</th>\n      <th>std</th>\n      <th>min</th>\n      <th>25%</th>\n      <th>50%</th>\n      <th>75%</th>\n      <th>max</th>\n    </tr>\n  </thead>\n  <tbody>\n    <tr>\n      <th>USMER</th>\n      <td>1.632</td>\n      <td>0.482</td>\n      <td>1.0</td>\n      <td>1.0</td>\n      <td>2.0</td>\n      <td>2.0</td>\n      <td>2.0</td>\n    </tr>\n    <tr>\n      <th>MEDICAL_UNIT</th>\n      <td>8.981</td>\n      <td>3.723</td>\n      <td>1.0</td>\n      <td>4.0</td>\n      <td>12.0</td>\n      <td>12.0</td>\n      <td>13.0</td>\n    </tr>\n    <tr>\n      <th>SEX</th>\n      <td>1.499</td>\n      <td>0.500</td>\n      <td>1.0</td>\n      <td>1.0</td>\n      <td>1.0</td>\n      <td>2.0</td>\n      <td>2.0</td>\n    </tr>\n    <tr>\n      <th>INTUBED</th>\n      <td>1.968</td>\n      <td>0.177</td>\n      <td>1.0</td>\n      <td>2.0</td>\n      <td>2.0</td>\n      <td>2.0</td>\n      <td>2.0</td>\n    </tr>\n    <tr>\n      <th>PNEUMONIA</th>\n      <td>1.864</td>\n      <td>0.342</td>\n      <td>1.0</td>\n      <td>2.0</td>\n      <td>2.0</td>\n      <td>2.0</td>\n      <td>2.0</td>\n    </tr>\n    <tr>\n      <th>AGE</th>\n      <td>41.783</td>\n      <td>16.890</td>\n      <td>0.0</td>\n      <td>30.0</td>\n      <td>40.0</td>\n      <td>53.0</td>\n      <td>121.0</td>\n    </tr>\n    <tr>\n      <th>DIABETES</th>\n      <td>1.880</td>\n      <td>0.324</td>\n      <td>1.0</td>\n      <td>2.0</td>\n      <td>2.0</td>\n      <td>2.0</td>\n      <td>2.0</td>\n    </tr>\n    <tr>\n      <th>COPD</th>\n      <td>1.986</td>\n      <td>0.119</td>\n      <td>1.0</td>\n      <td>2.0</td>\n      <td>2.0</td>\n      <td>2.0</td>\n      <td>2.0</td>\n    </tr>\n    <tr>\n      <th>ASTHMA</th>\n      <td>1.970</td>\n      <td>0.171</td>\n      <td>1.0</td>\n      <td>2.0</td>\n      <td>2.0</td>\n      <td>2.0</td>\n      <td>2.0</td>\n    </tr>\n    <tr>\n      <th>INMSUPR</th>\n      <td>1.986</td>\n      <td>0.116</td>\n      <td>1.0</td>\n      <td>2.0</td>\n      <td>2.0</td>\n      <td>2.0</td>\n      <td>2.0</td>\n    </tr>\n    <tr>\n      <th>HIPERTENSION</th>\n      <td>1.844</td>\n      <td>0.363</td>\n      <td>1.0</td>\n      <td>2.0</td>\n      <td>2.0</td>\n      <td>2.0</td>\n      <td>2.0</td>\n    </tr>\n    <tr>\n      <th>OTHER_DISEASE</th>\n      <td>1.973</td>\n      <td>0.162</td>\n      <td>1.0</td>\n      <td>2.0</td>\n      <td>2.0</td>\n      <td>2.0</td>\n      <td>2.0</td>\n    </tr>\n    <tr>\n      <th>CARDIOVASCULAR</th>\n      <td>1.980</td>\n      <td>0.140</td>\n      <td>1.0</td>\n      <td>2.0</td>\n      <td>2.0</td>\n      <td>2.0</td>\n      <td>2.0</td>\n    </tr>\n    <tr>\n      <th>OBESITY</th>\n      <td>1.847</td>\n      <td>0.360</td>\n      <td>1.0</td>\n      <td>2.0</td>\n      <td>2.0</td>\n      <td>2.0</td>\n      <td>2.0</td>\n    </tr>\n    <tr>\n      <th>RENAL_CHRONIC</th>\n      <td>1.982</td>\n      <td>0.133</td>\n      <td>1.0</td>\n      <td>2.0</td>\n      <td>2.0</td>\n      <td>2.0</td>\n      <td>2.0</td>\n    </tr>\n    <tr>\n      <th>TOBACCO</th>\n      <td>1.919</td>\n      <td>0.272</td>\n      <td>1.0</td>\n      <td>2.0</td>\n      <td>2.0</td>\n      <td>2.0</td>\n      <td>2.0</td>\n    </tr>\n    <tr>\n      <th>CLASIFFICATION_FINAL</th>\n      <td>5.306</td>\n      <td>1.881</td>\n      <td>1.0</td>\n      <td>3.0</td>\n      <td>6.0</td>\n      <td>7.0</td>\n      <td>7.0</td>\n    </tr>\n    <tr>\n      <th>ICU</th>\n      <td>1.984</td>\n      <td>0.126</td>\n      <td>1.0</td>\n      <td>2.0</td>\n      <td>2.0</td>\n      <td>2.0</td>\n      <td>2.0</td>\n    </tr>\n    <tr>\n      <th>DEAD</th>\n      <td>1.927</td>\n      <td>0.261</td>\n      <td>1.0</td>\n      <td>2.0</td>\n      <td>2.0</td>\n      <td>2.0</td>\n      <td>2.0</td>\n    </tr>\n    <tr>\n      <th>HOSPITALIZED</th>\n      <td>1.809</td>\n      <td>0.393</td>\n      <td>1.0</td>\n      <td>2.0</td>\n      <td>2.0</td>\n      <td>2.0</td>\n      <td>2.0</td>\n    </tr>\n  </tbody>\n</table>\n</div>"
     },
     "execution_count": 42,
     "metadata": {},
     "output_type": "execute_result"
    }
   ],
   "source": [
    "non_categorical = [\"AGE\"]\n",
    "categorical = df.columns.drop(non_categorical)\n",
    "\n",
    "for category in categorical:\n",
    "    df[category].astype(\"category\")\n",
    "    \n",
    "df.describe().round(3).T.drop('count', axis = 1)\n",
    "\n"
   ]
  },
  {
   "cell_type": "markdown",
   "metadata": {
    "collapsed": false
   },
   "source": [
    "## Dealing with null data"
   ]
  },
  {
   "cell_type": "code",
   "execution_count": 43,
   "metadata": {
    "collapsed": false,
    "ExecuteTime": {
     "end_time": "2024-01-21T08:52:02.010069500Z",
     "start_time": "2024-01-21T08:52:01.742802800Z"
    }
   },
   "outputs": [
    {
     "name": "stdout",
     "output_type": "stream",
     "text": [
      "Summary of null values in each categorical column:\n",
      "                      Null Values Count  Total Values Count  \\\n",
      "USMER                                 0             1048575   \n",
      "MEDICAL_UNIT                          0             1048575   \n",
      "SEX                                   0             1048575   \n",
      "INTUBED                            7325             1048575   \n",
      "PNEUMONIA                         16003             1048575   \n",
      "PREGNANT                           3754             1048575   \n",
      "DIABETES                           3338             1048575   \n",
      "COPD                               3003             1048575   \n",
      "ASTHMA                             2979             1048575   \n",
      "INMSUPR                            3404             1048575   \n",
      "HIPERTENSION                       3104             1048575   \n",
      "OTHER_DISEASE                      5045             1048575   \n",
      "CARDIOVASCULAR                     3076             1048575   \n",
      "OBESITY                            3032             1048575   \n",
      "RENAL_CHRONIC                      3006             1048575   \n",
      "TOBACCO                            3220             1048575   \n",
      "CLASIFFICATION_FINAL                  0             1048575   \n",
      "ICU                                7488             1048575   \n",
      "DEAD                                  0             1048575   \n",
      "HOSPITALIZED                          0             1048575   \n",
      "\n",
      "                      Percentage of Null Values  \n",
      "USMER                                  0.000000  \n",
      "MEDICAL_UNIT                           0.000000  \n",
      "SEX                                    0.000000  \n",
      "INTUBED                                0.698567  \n",
      "PNEUMONIA                              1.526166  \n",
      "PREGNANT                               0.358010  \n",
      "DIABETES                               0.318337  \n",
      "COPD                                   0.286389  \n",
      "ASTHMA                                 0.284100  \n",
      "INMSUPR                                0.324631  \n",
      "HIPERTENSION                           0.296021  \n",
      "OTHER_DISEASE                          0.481129  \n",
      "CARDIOVASCULAR                         0.293350  \n",
      "OBESITY                                0.289154  \n",
      "RENAL_CHRONIC                          0.286675  \n",
      "TOBACCO                                0.307083  \n",
      "CLASIFFICATION_FINAL                   0.000000  \n",
      "ICU                                    0.714112  \n",
      "DEAD                                   0.000000  \n",
      "HOSPITALIZED                           0.000000  \n"
     ]
    }
   ],
   "source": [
    "# Select only the categorical columns from the DataFrame\n",
    "categorical_data = df[categorical]\n",
    "\n",
    "# Count the total number of rows in the categorical_data DataFrame\n",
    "total_rows = len(categorical_data)\n",
    "\n",
    "# Count the number of null values in each categorical column\n",
    "null_rows_count = categorical_data.isnull().sum()\n",
    "\n",
    "# Calculate the percentage of null values for each column\n",
    "percentage_null_values = (null_rows_count / total_rows) * 100\n",
    "\n",
    "# Create a DataFrame to display the results\n",
    "null_summary = pd.DataFrame({\n",
    "    'Null Values Count': null_rows_count,\n",
    "    'Total Values Count': total_rows,\n",
    "    'Percentage of Null Values': percentage_null_values\n",
    "})\n",
    "\n",
    "# Print the summary\n",
    "print(\"Summary of null values in each categorical column:\")\n",
    "print(null_summary)\n"
   ]
  },
  {
   "cell_type": "code",
   "execution_count": 44,
   "metadata": {
    "collapsed": false,
    "ExecuteTime": {
     "end_time": "2024-01-21T08:52:02.363782300Z",
     "start_time": "2024-01-21T08:52:01.984485300Z"
    }
   },
   "outputs": [
    {
     "name": "stdout",
     "output_type": "stream",
     "text": [
      "Number of removed lines: 28909\n",
      "Number of lines remaining: 1019666\n"
     ]
    }
   ],
   "source": [
    "# Calculate the initial number of rows\n",
    "initial_rows = len(categorical_data)\n",
    "\n",
    "# Remove rows with null values\n",
    "categorical_data_cleaned = categorical_data.dropna()\n",
    "\n",
    "# Calculate the number of removed lines\n",
    "removed_lines = initial_rows - len(categorical_data_cleaned)\n",
    "\n",
    "# Calculate the number of lines that remain after removal\n",
    "remaining_lines = len(categorical_data_cleaned)\n",
    "\n",
    "# Print the number of removed lines and remaining lines\n",
    "print(f\"Number of removed lines: {removed_lines}\")\n",
    "print(f\"Number of lines remaining: {remaining_lines}\")\n",
    "\n",
    "# Optionally, you can assign the cleaned DataFrame to a new variable or overwrite the original one\n",
    "# categorical_data = categorical_data_cleaned\n"
   ]
  },
  {
   "cell_type": "code",
   "execution_count": 45,
   "metadata": {
    "collapsed": false,
    "ExecuteTime": {
     "end_time": "2024-01-21T08:52:02.365779900Z",
     "start_time": "2024-01-21T08:52:02.354027300Z"
    }
   },
   "outputs": [],
   "source": [
    "# Calculate the number of rows to export (10% of the total cleaned data)\n",
    "# percentage_to_export = 0.1\n",
    "# num_rows_to_export = int(len(categorical_data_cleaned) * percentage_to_export)\n",
    "\n",
    "# Set a random seed for reproducibility\n",
    "# random_seed = 42  # You can use any integer as the seed\n",
    "\n",
    "# Use the sample method to randomly select the specified number of rows\n",
    "# random_subset = categorical_data_cleaned.sample(n=num_rows_to_export, random_state=random_seed)\n",
    "\n",
    "# Specify the path where you want to save the cleaned subset of data to a CSV file\n",
    "# cleaned_subset_output_file = \"cleaned_categorical_data_subset.csv\"\n",
    "\n",
    "# Export the cleaned subset of data to a CSV file\n",
    "# random_subset.to_csv(cleaned_subset_output_file, index=False)\n",
    "\n",
    "# Optionally, you can read the cleaned subset data back into a DataFrame if needed\n",
    "# cleaned_subset_df = pd.read_csv(cleaned_subset_output_file)\n",
    "\n",
    "# Display the first few rows of the cleaned subset DataFrame\n",
    "# print(\"\\nFirst few rows of the cleaned subset DataFrame:\")\n",
    "# print(cleaned_subset_df.head())"
   ]
  },
  {
   "cell_type": "markdown",
   "metadata": {
    "collapsed": false
   },
   "source": [
    "# Looking for correlation"
   ]
  },
  {
   "cell_type": "code",
   "execution_count": 46,
   "metadata": {
    "collapsed": false,
    "ExecuteTime": {
     "end_time": "2024-01-21T08:52:03.864444400Z",
     "start_time": "2024-01-21T08:52:02.364803100Z"
    }
   },
   "outputs": [
    {
     "data": {
      "text/plain": "USMER                   0.112671\nMEDICAL_UNIT            0.149030\nSEX                    -0.081383\nINTUBED                 0.503729\nPNEUMONIA               0.471559\nAGE                    -0.320765\nPREGNANT               -0.021245\nDIABETES                0.217199\nCOPD                    0.090238\nASTHMA                 -0.017670\nINMSUPR                 0.050446\nHIPERTENSION            0.204885\nOTHER_DISEASE           0.057190\nCARDIOVASCULAR          0.077024\nOBESITY                 0.057684\nRENAL_CHRONIC           0.119504\nTOBACCO                 0.005999\nCLASIFFICATION_FINAL    0.196085\nICU                     0.205733\nDEAD                    1.000000\nHOSPITALIZED            0.515582\nName: DEAD, dtype: float64"
     },
     "execution_count": 46,
     "metadata": {},
     "output_type": "execute_result"
    }
   ],
   "source": [
    "# df = df[['USMER','MEDICAL_UNIT','SEX','INTUBED','PNEUMONIA','PREGNANT','DIABETES','COPD','ASTHMA','INMSUPR','HIPERTENSION','OTHER_DISEASE','CARDIOVASCULAR','OBESITY','RENAL_CHRONIC','TOBACCO','CLASIFFICATION_FINAL','ICU','DEAD','HOSPITALIZED'\n",
    "# ]].dropna()\n",
    "\n",
    "\n",
    "\n",
    "df.corr()['DEAD']\n"
   ]
  },
  {
   "cell_type": "code",
   "execution_count": 47,
   "metadata": {
    "collapsed": false,
    "ExecuteTime": {
     "end_time": "2024-01-21T08:52:06.190756900Z",
     "start_time": "2024-01-21T08:52:03.869440700Z"
    }
   },
   "outputs": [
    {
     "data": {
      "text/plain": "<Figure size 2000x1500 with 2 Axes>",
      "image/png": "[encoded data removed]"
     },
     "metadata": {},
     "output_type": "display_data"
    }
   ],
   "source": [
    "fig, ax = plt.subplots(figsize=(20, 15))\n",
    "sorted_corr = df.copy()\n",
    "sorted_corr = sorted_corr.corr()[['DEAD']].sort_values(by='DEAD', ascending=False)\n",
    "\n",
    "sns.heatmap(sorted_corr, annot = True, cmap = \"Blues\", vmin = -1, vmax = 1)\n",
    "plt.title('Death factors correlation', color = 'black', fontsize = 30)\n",
    "plt.show()"
   ]
  },
  {
   "cell_type": "code",
   "execution_count": 48,
   "metadata": {
    "collapsed": false,
    "ExecuteTime": {
     "end_time": "2024-01-21T08:52:08.303771500Z",
     "start_time": "2024-01-21T08:52:06.099050100Z"
    }
   },
   "outputs": [
    {
     "data": {
      "text/plain": "<Figure size 2000x1500 with 2 Axes>",
      "image/png": "[encoded data removed]"
     },
     "metadata": {},
     "output_type": "display_data"
    }
   ],
   "source": [
    "import matplotlib.pyplot as plt\n",
    "import seaborn as sns\n",
    "\n",
    "sorted_corr_relevant = df.copy()\n",
    "correlation_matrix = sorted_corr_relevant.corr()[['DEAD']]\n",
    "\n",
    "filtered_corr = correlation_matrix[(correlation_matrix > 0.1) | (correlation_matrix < -0.1)].dropna()\n",
    "\n",
    "fig, ax = plt.subplots(figsize=(20, 15))\n",
    "\n",
    "sns.heatmap(filtered_corr.sort_values(by='DEAD', ascending=False), annot=True, cmap=\"Blues\", vmin=-1, vmax=1)\n",
    "plt.title('Death factors correlation', color='black', fontsize=30)\n",
    "plt.show()\n"
   ]
  },
  {
   "cell_type": "markdown",
   "metadata": {
    "collapsed": false
   },
   "source": [
    "# Decision tree"
   ]
  },
  {
   "cell_type": "markdown",
   "metadata": {
    "collapsed": false
   },
   "source": [
    "## Basic example"
   ]
  },
  {
   "cell_type": "code",
   "execution_count": 49,
   "metadata": {
    "collapsed": false,
    "ExecuteTime": {
     "end_time": "2024-01-21T08:52:09.106088600Z",
     "start_time": "2024-01-21T08:52:08.282548900Z"
    }
   },
   "outputs": [],
   "source": [
    "from sklearn import tree\n",
    "from sklearn.tree import DecisionTreeClassifier\n",
    "\n",
    "X = df.copy().drop('DEAD', axis=1)\n",
    "Y = df['DEAD']"
   ]
  },
  {
   "cell_type": "code",
   "execution_count": 50,
   "metadata": {
    "collapsed": false,
    "ExecuteTime": {
     "end_time": "2024-01-21T08:52:19.987338900Z",
     "start_time": "2024-01-21T08:52:08.909644800Z"
    }
   },
   "outputs": [],
   "source": [
    "x_train, x_test, y_train, y_test = train_test_split(X, Y, test_size=0.30, random_state=42)\n",
    "\n",
    "dtree = DecisionTreeClassifier()\n",
    "dtree = dtree.fit(x_train, y_train)"
   ]
  },
  {
   "cell_type": "code",
   "execution_count": 51,
   "metadata": {
    "collapsed": false,
    "ExecuteTime": {
     "end_time": "2024-01-21T08:52:22.476504700Z",
     "start_time": "2024-01-21T08:52:20.089829Z"
    }
   },
   "outputs": [
    {
     "name": "stdout",
     "output_type": "stream",
     "text": [
      "Decision Tree Train Accuracy:  0.9695041702883643 \n",
      "Decision Tree Test Accuracy: 0.9409962075575463 \n"
     ]
    }
   ],
   "source": [
    "print(\"Decision Tree Train Accuracy: \", dtree.score(x_train,y_train), \"\\n\")\n",
    "print(\"Decision Tree Test Accuracy:\", dtree.score(x_test, y_test), \"\\n\")"
   ]
  },
  {
   "cell_type": "code",
   "execution_count": 52,
   "metadata": {
    "ExecuteTime": {
     "end_time": "2024-01-21T08:52:23.469676Z",
     "start_time": "2024-01-21T08:52:22.472873700Z"
    }
   },
   "outputs": [
    {
     "data": {
      "text/plain": "<Figure size 640x480 with 1 Axes>",
      "image/png": "[encoded data removed]"
     },
     "metadata": {},
     "output_type": "display_data"
    }
   ],
   "source": [
    "y_pred = dtree.predict(x_test)\n",
    "c_matrix = confusion_matrix(y_test, y_pred)\n",
    "util.plot_confusion_matrix_pie(c_matrix)"
   ]
  },
  {
   "cell_type": "markdown",
   "metadata": {
    "collapsed": false
   },
   "source": [
    "## Correlation based Tree data selection"
   ]
  },
  {
   "cell_type": "markdown",
   "metadata": {
    "collapsed": false
   },
   "source": [
    "Here I just select the more relevant columns based on the correlation results."
   ]
  },
  {
   "cell_type": "code",
   "execution_count": 68,
   "metadata": {
    "collapsed": false,
    "ExecuteTime": {
     "end_time": "2024-01-21T09:04:16.959924200Z",
     "start_time": "2024-01-21T09:04:16.773255300Z"
    }
   },
   "outputs": [
    {
     "data": {
      "text/plain": "['HOSPITALIZED', 'INTUBED', 'PNEUMONIA']"
     },
     "execution_count": 68,
     "metadata": {},
     "output_type": "execute_result"
    }
   ],
   "source": [
    "bound = 0.4\n",
    "\n",
    "sorted_corr.sort_values(by='DEAD', ascending=False)\n",
    "\n",
    "filtered_corr = sorted_corr[(sorted_corr['DEAD'] > bound) | (sorted_corr['DEAD'] < -bound)]\n",
    "\n",
    "filtered_corr.sort_values(by='DEAD', ascending=False)\n",
    "\n",
    "unique_names = filtered_corr.index.tolist()\n",
    "\n",
    "unique_names.remove('DEAD')\n",
    "\n",
    "unique_names"
   ]
  },
  {
   "cell_type": "code",
   "execution_count": 69,
   "metadata": {
    "collapsed": false,
    "ExecuteTime": {
     "end_time": "2024-01-21T09:04:19.763632900Z",
     "start_time": "2024-01-21T09:04:19.634568400Z"
    }
   },
   "outputs": [],
   "source": [
    "from sklearn.tree import DecisionTreeClassifier\n",
    "\n",
    "X = df[unique_names].copy()\n",
    "\n",
    "Y = df['DEAD']"
   ]
  },
  {
   "cell_type": "code",
   "execution_count": 70,
   "metadata": {
    "collapsed": false,
    "ExecuteTime": {
     "end_time": "2024-01-21T09:04:22.447972400Z",
     "start_time": "2024-01-21T09:04:21.567621200Z"
    }
   },
   "outputs": [],
   "source": [
    "x_train, x_test, y_train, y_test = train_test_split(X, Y, test_size=0.30, random_state=42)\n",
    "\n",
    "dtree = DecisionTreeClassifier()\n",
    "dtree = dtree.fit(x_train, y_train)"
   ]
  },
  {
   "cell_type": "code",
   "execution_count": 71,
   "metadata": {
    "collapsed": false,
    "ExecuteTime": {
     "end_time": "2024-01-21T09:04:24.636073700Z",
     "start_time": "2024-01-21T09:04:24.226529100Z"
    }
   },
   "outputs": [
    {
     "name": "stdout",
     "output_type": "stream",
     "text": [
      "Decision Tree Train Accuracy:  0.9445178623491489 \n",
      "\n",
      "Decision Tree Train Accuracy: 0.9456024515772173 \n"
     ]
    }
   ],
   "source": [
    "print(\"Decision Tree Train Accuracy: \", dtree.score(x_train,y_train), \"\\n\")\n",
    "\n",
    "print(\"Decision Tree Train Accuracy:\", dtree.score(x_test, y_test), \"\\n\")"
   ]
  },
  {
   "cell_type": "code",
   "execution_count": 72,
   "metadata": {
    "collapsed": false,
    "ExecuteTime": {
     "end_time": "2024-01-21T09:04:30.916806Z",
     "start_time": "2024-01-21T09:04:30.173157900Z"
    }
   },
   "outputs": [
    {
     "data": {
      "text/plain": "[Text(0.5909090909090909, 0.875, 'HOSPITALIZED <= 1.5\\ngini = 0.137\\nsamples = 734002\\nvalue = [54162, 679840]'),\n Text(0.36363636363636365, 0.625, 'INTUBED <= 1.5\\ngini = 0.456\\nsamples = 140343\\nvalue = [49343, 91000]'),\n Text(0.18181818181818182, 0.375, 'PNEUMONIA <= 1.5\\ngini = 0.338\\nsamples = 23598\\nvalue = [18518, 5080]'),\n Text(0.09090909090909091, 0.125, 'gini = 0.337\\nsamples = 18064\\nvalue = [14444, 3620]'),\n Text(0.2727272727272727, 0.125, 'gini = 0.374\\nsamples = 5534\\nvalue = [4074, 1460]'),\n Text(0.5454545454545454, 0.375, 'PNEUMONIA <= 1.5\\ngini = 0.389\\nsamples = 116745\\nvalue = [30825, 85920]'),\n Text(0.45454545454545453, 0.125, 'gini = 0.442\\nsamples = 63826\\nvalue = [21036, 42790]'),\n Text(0.6363636363636364, 0.125, 'gini = 0.302\\nsamples = 52919\\nvalue = [9789, 43130]'),\n Text(0.8181818181818182, 0.625, 'PNEUMONIA <= 1.5\\ngini = 0.016\\nsamples = 593659\\nvalue = [4819, 588840]'),\n Text(0.7272727272727273, 0.375, 'gini = 0.252\\nsamples = 16179\\nvalue = [2395, 13784]'),\n Text(0.9090909090909091, 0.375, 'gini = 0.008\\nsamples = 577480\\nvalue = [2424, 575056]')]"
     },
     "execution_count": 72,
     "metadata": {},
     "output_type": "execute_result"
    },
    {
     "data": {
      "text/plain": "<Figure size 640x480 with 1 Axes>",
      "image/png": "[encoded data removed]"
     },
     "metadata": {},
     "output_type": "display_data"
    }
   ],
   "source": [
    "tree.plot_tree(dtree, feature_names=X.columns, filled=True)\n"
   ]
  },
  {
   "cell_type": "code",
   "execution_count": 77,
   "metadata": {
    "ExecuteTime": {
     "end_time": "2024-01-21T09:18:03.614381200Z",
     "start_time": "2024-01-21T09:18:02.758475800Z"
    }
   },
   "outputs": [
    {
     "data": {
      "text/plain": "<sklearn.metrics._plot.confusion_matrix.ConfusionMatrixDisplay at 0x10ec5e02290>"
     },
     "execution_count": 77,
     "metadata": {},
     "output_type": "execute_result"
    },
    {
     "data": {
      "text/plain": "<Figure size 640x480 with 2 Axes>",
      "image/png": "[encoded data removed]"
     },
     "metadata": {},
     "output_type": "display_data"
    }
   ],
   "source": [
    "y_pred = dtree.predict(x_test)\n",
    "c_matrix = confusion_matrix(y_test, y_pred, labels=[\"1\", \"2\"])\n",
    "ConfusionMatrixDisplay.from_predictions(y_test, y_pred, cmap=\"Blues\")"
   ]
  },
  {
   "cell_type": "markdown",
   "metadata": {},
   "source": [
    "# Forest"
   ]
  },
  {
   "cell_type": "code",
   "execution_count": 79,
   "metadata": {
    "ExecuteTime": {
     "end_time": "2024-01-21T09:20:12.531785200Z",
     "start_time": "2024-01-21T09:20:09.972250400Z"
    }
   },
   "outputs": [],
   "source": [
    "X = df.copy().drop('DEAD', axis=1)\n",
    "Y = df['DEAD']\n",
    "\n",
    "X = X.fillna(X.mean())\n",
    "\n",
    "x_train, x_test, y_train, y_test = train_test_split(X, Y, test_size=0.30, random_state=42)"
   ]
  },
  {
   "cell_type": "code",
   "execution_count": 80,
   "metadata": {
    "ExecuteTime": {
     "end_time": "2024-01-21T09:23:50.531634400Z",
     "start_time": "2024-01-21T09:20:14.285533300Z"
    }
   },
   "outputs": [],
   "source": [
    "dtree = RandomForestClassifier()\n",
    "dtree = dtree.fit(x_train, y_train)"
   ]
  },
  {
   "cell_type": "code",
   "execution_count": 81,
   "metadata": {
    "ExecuteTime": {
     "end_time": "2024-01-21T09:25:03.463100100Z",
     "start_time": "2024-01-21T09:24:18.387662800Z"
    }
   },
   "outputs": [
    {
     "name": "stdout",
     "output_type": "stream",
     "text": [
      "Decision Tree Train Accuracy:  0.9771213157457337 \n",
      "Decision Tree Test Accuracy: 0.9449253432430628 \n"
     ]
    }
   ],
   "source": [
    "print(\"Decision Tree Train Accuracy: \", dtree.score(x_train,y_train), \"\\n\")\n",
    "print(\"Decision Tree Test Accuracy:\", dtree.score(x_test, y_test), \"\\n\")"
   ]
  },
  {
   "cell_type": "code",
   "execution_count": 89,
   "metadata": {
    "ExecuteTime": {
     "end_time": "2024-01-21T09:29:51.491523600Z",
     "start_time": "2024-01-21T09:29:37.950799300Z"
    }
   },
   "outputs": [
    {
     "data": {
      "text/plain": "<sklearn.metrics._plot.confusion_matrix.ConfusionMatrixDisplay at 0x10ec5d47730>"
     },
     "execution_count": 89,
     "metadata": {},
     "output_type": "execute_result"
    },
    {
     "data": {
      "text/plain": "<Figure size 640x480 with 2 Axes>",
      "image/png": "[encoded data removed]"
     },
     "metadata": {},
     "output_type": "display_data"
    }
   ],
   "source": [
    "y_pred = dtree.predict(x_test)\n",
    "c_matrix = confusion_matrix(y_test, y_pred)\n",
    "ConfusionMatrixDisplay.from_predictions(y_test, y_pred, cmap=\"Blues\")"
   ]
  },
  {
   "cell_type": "code",
   "execution_count": 93,
   "outputs": [
    {
     "name": "stdout",
     "output_type": "stream",
     "text": [
      "12196 10584 6741 285052\n"
     ]
    }
   ],
   "source": [
    "TP, FN, FP, TN = c_matrix.ravel()\n",
    "print(TP, FN, FP, TN) "
   ],
   "metadata": {
    "collapsed": false,
    "ExecuteTime": {
     "end_time": "2024-01-21T09:34:04.980211300Z",
     "start_time": "2024-01-21T09:34:04.798457900Z"
    }
   }
  },
  {
   "cell_type": "code",
   "execution_count": 99,
   "outputs": [
    {
     "name": "stdout",
     "output_type": "stream",
     "text": [
      "291793 22780\n"
     ]
    }
   ],
   "source": [
    "N, P = y_test.value_counts().ravel()\n",
    "print(N, P)"
   ],
   "metadata": {
    "collapsed": false,
    "ExecuteTime": {
     "end_time": "2024-01-21T09:36:58.875186800Z",
     "start_time": "2024-01-21T09:36:58.762288Z"
    }
   }
  },
  {
   "cell_type": "code",
   "execution_count": 100,
   "outputs": [
    {
     "data": {
      "text/plain": "0.05507465675693718"
     },
     "execution_count": 100,
     "metadata": {},
     "output_type": "execute_result"
    }
   ],
   "source": [
    "error_rate = (FP+FN)/(P+N)\n",
    "error_rate"
   ],
   "metadata": {
    "collapsed": false,
    "ExecuteTime": {
     "end_time": "2024-01-21T09:37:08.469357800Z",
     "start_time": "2024-01-21T09:37:08.400605900Z"
    }
   }
  },
  {
   "cell_type": "code",
   "execution_count": 101,
   "outputs": [
    {
     "data": {
      "text/plain": "0.9449253432430629"
     },
     "execution_count": 101,
     "metadata": {},
     "output_type": "execute_result"
    }
   ],
   "source": [
    "accuracy = 1 - error_rate\n",
    "accuracy"
   ],
   "metadata": {
    "collapsed": false,
    "ExecuteTime": {
     "end_time": "2024-01-21T09:37:13.728421Z",
     "start_time": "2024-01-21T09:37:13.705553200Z"
    }
   }
  }
 ],
 "metadata": {
  "kernelspec": {
   "display_name": "venv",
   "language": "python",
   "name": "python3"
  },
  "language_info": {
   "codemirror_mode": {
    "name": "ipython",
    "version": 3
   },
   "file_extension": ".py",
   "mimetype": "text/x-python",
   "name": "python",
   "nbconvert_exporter": "python",
   "pygments_lexer": "ipython3",
   "version": "3.10.12"
  }
 },
 "nbformat": 4,
 "nbformat_minor": 2
}
