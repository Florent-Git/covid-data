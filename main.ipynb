{
 "cells": [
  {
   "cell_type": "markdown",
   "metadata": {},
   "source": [
    "# 0. Imports"
   ]
  },
  {
   "cell_type": "code",
   "execution_count": null,
   "metadata": {
    "ExecuteTime": {
     "end_time": "2024-01-20T11:53:28.659147600Z",
     "start_time": "2024-01-20T11:53:28.139633700Z"
    }
   },
   "outputs": [],
   "source": [
    "import pandas as pd\n",
    "import matplotlib.pyplot as plt\n",
    "import seaborn as sns\n",
    "import numpy as np\n",
    "import utils as util\n",
    "\n",
    "from sklearn.model_selection import train_test_split\n",
    "from sklearn.metrics import confusion_matrix\n",
    "from sklearn.tree import DecisionTreeClassifier\n",
    "from sklearn.ensemble import RandomForestClassifier"
   ]
  },
  {
   "cell_type": "markdown",
   "metadata": {},
   "source": [
    "# 1. Preamble analysis of the dataset"
   ]
  },
  {
   "cell_type": "code",
   "execution_count": null,
   "metadata": {
    "ExecuteTime": {
     "end_time": "2024-01-20T11:53:30.257333800Z",
     "start_time": "2024-01-20T11:53:28.149147Z"
    }
   },
   "outputs": [],
   "source": [
    "df = pd.read_csv(\"./data/covid_data.csv\")\n",
    "df.head()"
   ]
  },
  {
   "cell_type": "markdown",
   "metadata": {},
   "source": [
    "### 1.1 Analysing existing data"
   ]
  },
  {
   "cell_type": "code",
   "execution_count": null,
   "metadata": {
    "ExecuteTime": {
     "end_time": "2024-01-20T11:53:30.257333800Z",
     "start_time": "2024-01-20T11:53:29.678640Z"
    },
    "collapsed": false
   },
   "outputs": [],
   "source": [
    "df_null = df.copy()\n",
    "for i in [97, 98, 99]:\n",
    "   df_null.replace(i , np.nan, inplace = True)"
   ]
  },
  {
   "cell_type": "code",
   "execution_count": null,
   "metadata": {
    "ExecuteTime": {
     "end_time": "2024-01-20T11:53:30.257333800Z",
     "start_time": "2024-01-20T11:53:30.048349400Z"
    },
    "collapsed": false
   },
   "outputs": [],
   "source": [
    "df_null.isnull().sum()"
   ]
  },
  {
   "cell_type": "markdown",
   "metadata": {
    "collapsed": false
   },
   "source": [
    "As we can show with the following graph, there are **a lot** of NA values in the dataset. We will have to handle them.\n",
    "\n",
    "One approach is to take the mean of the column and replace the NA values with it. However, this is not a good approach, as it will skew the data. We will have to find a better way to handle the NA values.\n",
    "\n",
    "We will therefore have to go each problematic columun to fix the eventual problematic data\n",
    "\n",
    "Remember that in the dataset definition it says that 97,98 and 99 are null values, let's deal with that"
   ]
  },
  {
   "cell_type": "code",
   "execution_count": null,
   "metadata": {
    "ExecuteTime": {
     "end_time": "2024-01-20T11:53:30.257333800Z",
     "start_time": "2024-01-20T11:53:30.119333600Z"
    },
    "collapsed": false
   },
   "outputs": [],
   "source": [
    "# sns.heatmap(df_null.isnull(), cbar=False)\n",
    "# plt.title('Before data cleanup', color = 'black', fontsize = 15)\n",
    "# plt.show()"
   ]
  },
  {
   "cell_type": "markdown",
   "metadata": {
    "collapsed": false
   },
   "source": [
    "#### As we can see, that's no bueno..."
   ]
  },
  {
   "cell_type": "code",
   "execution_count": null,
   "metadata": {
    "ExecuteTime": {
     "end_time": "2024-01-20T11:53:30.711997900Z",
     "start_time": "2024-01-20T11:53:30.126334200Z"
    },
    "collapsed": false
   },
   "outputs": [],
   "source": [
    "df.describe().round(3).T.drop('count', axis = 1)"
   ]
  },
  {
   "cell_type": "markdown",
   "metadata": {
    "collapsed": false
   },
   "source": [
    "Furthermore, we have some suspiciously skewed data. Is really half of the population pregnant?!"
   ]
  },
  {
   "cell_type": "markdown",
   "metadata": {
    "collapsed": false
   },
   "source": [
    "### 1.2 Managing the DEAD people "
   ]
  },
  {
   "cell_type": "markdown",
   "metadata": {
    "collapsed": false
   },
   "source": [
    "People with a DATE_DIED value of 9999-99-99 simply aren't dead, so we'll just create a new DEAD column to represent that"
   ]
  },
  {
   "cell_type": "code",
   "execution_count": null,
   "metadata": {
    "ExecuteTime": {
     "end_time": "2024-01-20T11:53:30.891323400Z",
     "start_time": "2024-01-20T11:53:30.710999500Z"
    },
    "collapsed": false
   },
   "outputs": [],
   "source": [
    "# Check for any strings in the feature \"DATE_DIED\"\n",
    "df['DATE_DIED'][df['DATE_DIED'].apply(lambda x: isinstance(x, str))]"
   ]
  },
  {
   "cell_type": "code",
   "execution_count": null,
   "metadata": {
    "ExecuteTime": {
     "end_time": "2024-01-20T11:53:31.252431400Z",
     "start_time": "2024-01-20T11:53:30.892323700Z"
    },
    "collapsed": false
   },
   "outputs": [],
   "source": [
    "df['DEAD'] = [2 if i=='9999-99-99' else 1 for i in df.DATE_DIED]"
   ]
  },
  {
   "cell_type": "code",
   "execution_count": null,
   "metadata": {
    "ExecuteTime": {
     "end_time": "2024-01-20T11:53:31.252431400Z",
     "start_time": "2024-01-20T11:53:31.234394200Z"
    },
    "collapsed": false
   },
   "outputs": [],
   "source": [
    "df['DEAD'].value_counts(normalize=True)"
   ]
  },
  {
   "cell_type": "markdown",
   "metadata": {
    "collapsed": false
   },
   "source": [
    "We'll also replace 9999-99-99 with NaN for the time being"
   ]
  },
  {
   "cell_type": "code",
   "execution_count": null,
   "metadata": {
    "ExecuteTime": {
     "end_time": "2024-01-20T11:53:31.326369200Z",
     "start_time": "2024-01-20T11:53:31.246430600Z"
    },
    "collapsed": false
   },
   "outputs": [],
   "source": [
    "df = df.drop('DATE_DIED', axis=1)"
   ]
  },
  {
   "cell_type": "markdown",
   "metadata": {
    "collapsed": false
   },
   "source": [
    "#### How does the data look now ?"
   ]
  },
  {
   "cell_type": "code",
   "execution_count": null,
   "metadata": {
    "ExecuteTime": {
     "end_time": "2024-01-20T11:53:31.988413100Z",
     "start_time": "2024-01-20T11:53:31.317371200Z"
    },
    "collapsed": false
   },
   "outputs": [],
   "source": [
    "df.describe().round(3).T.drop('count', axis = 1)\n"
   ]
  },
  {
   "cell_type": "markdown",
   "metadata": {
    "collapsed": false
   },
   "source": [
    "Hmmm, it looks like we'll have to work on the PREGNANT, ICU, and INTUBED people"
   ]
  },
  {
   "cell_type": "markdown",
   "metadata": {},
   "source": [
    "### 1.3 SEX Values"
   ]
  },
  {
   "cell_type": "markdown",
   "metadata": {},
   "source": [
    "We'll just set the 1 and 2 values to \"Female\" and \"Male\" respectively"
   ]
  },
  {
   "cell_type": "markdown",
   "metadata": {
    "collapsed": false
   },
   "source": [
    "### 1.4 Pregnant values"
   ]
  },
  {
   "cell_type": "code",
   "execution_count": null,
   "metadata": {
    "ExecuteTime": {
     "end_time": "2024-01-20T11:53:32.008210300Z",
     "start_time": "2024-01-20T11:53:31.986411900Z"
    },
    "collapsed": false
   },
   "outputs": [],
   "source": [
    "df.SEX.value_counts()"
   ]
  },
  {
   "cell_type": "code",
   "execution_count": null,
   "metadata": {
    "ExecuteTime": {
     "end_time": "2024-01-20T11:53:32.008210300Z",
     "start_time": "2024-01-20T11:53:31.999685900Z"
    },
    "collapsed": false
   },
   "outputs": [],
   "source": [
    "df.SEX.shape"
   ]
  },
  {
   "cell_type": "markdown",
   "metadata": {
    "collapsed": false
   },
   "source": [
    "Pregnant females ?"
   ]
  },
  {
   "cell_type": "code",
   "execution_count": null,
   "metadata": {
    "ExecuteTime": {
     "end_time": "2024-01-20T11:53:32.086258300Z",
     "start_time": "2024-01-20T11:53:32.005211900Z"
    },
    "collapsed": false
   },
   "outputs": [],
   "source": [
    "df[(df['SEX'] == 1)]['PREGNANT']"
   ]
  },
  {
   "cell_type": "code",
   "execution_count": null,
   "metadata": {
    "ExecuteTime": {
     "end_time": "2024-01-20T11:53:32.169199200Z",
     "start_time": "2024-01-20T11:53:32.047260400Z"
    },
    "collapsed": false
   },
   "outputs": [],
   "source": [
    "df[(df['SEX'] == 1)]['PREGNANT'].value_counts()"
   ]
  },
  {
   "cell_type": "markdown",
   "metadata": {
    "collapsed": false
   },
   "source": [
    "Pregnant males ?"
   ]
  },
  {
   "cell_type": "code",
   "execution_count": null,
   "metadata": {
    "ExecuteTime": {
     "end_time": "2024-01-20T11:53:32.216343400Z",
     "start_time": "2024-01-20T11:53:32.092161800Z"
    },
    "collapsed": false
   },
   "outputs": [],
   "source": [
    "df[(df['SEX'] == 2)]['PREGNANT']"
   ]
  },
  {
   "cell_type": "code",
   "execution_count": null,
   "metadata": {
    "ExecuteTime": {
     "end_time": "2024-01-20T11:53:32.244348300Z",
     "start_time": "2024-01-20T11:53:32.131203200Z"
    },
    "collapsed": false
   },
   "outputs": [],
   "source": [
    "df[(df['SEX'] == 2) & (df['PREGNANT'])]['PREGNANT'].value_counts()"
   ]
  },
  {
   "cell_type": "code",
   "execution_count": null,
   "metadata": {
    "ExecuteTime": {
     "end_time": "2024-01-20T11:53:32.244348300Z",
     "start_time": "2024-01-20T11:53:32.186665500Z"
    },
    "collapsed": false
   },
   "outputs": [],
   "source": [
    "df['PREGNANT'].value_counts()"
   ]
  },
  {
   "cell_type": "markdown",
   "metadata": {
    "collapsed": false
   },
   "source": [
    "It looks like 97 indicates males that aren't pregnant. In other words, for those values we can just input 2 instead of 97"
   ]
  },
  {
   "cell_type": "code",
   "execution_count": null,
   "metadata": {
    "ExecuteTime": {
     "end_time": "2024-01-20T11:53:32.244348300Z",
     "start_time": "2024-01-20T11:53:32.199757900Z"
    },
    "collapsed": false
   },
   "outputs": [],
   "source": [
    "df['PREGNANT'].replace (97, 2, inplace = True)"
   ]
  },
  {
   "cell_type": "markdown",
   "metadata": {
    "collapsed": false
   },
   "source": [
    "Finally, 98 represents the females that are unknown to be pregnant or not"
   ]
  },
  {
   "cell_type": "code",
   "execution_count": null,
   "metadata": {
    "ExecuteTime": {
     "end_time": "2024-01-20T11:53:32.249348400Z",
     "start_time": "2024-01-20T11:53:32.210344900Z"
    },
    "collapsed": false
   },
   "outputs": [],
   "source": [
    "df['PREGNANT'].value_counts()"
   ]
  },
  {
   "cell_type": "markdown",
   "metadata": {},
   "source": [
    "We can simply mark then as NA as the data is logically Not Available"
   ]
  },
  {
   "cell_type": "code",
   "execution_count": null,
   "metadata": {
    "ExecuteTime": {
     "end_time": "2024-01-20T11:53:32.366801800Z",
     "start_time": "2024-01-20T11:53:32.221349300Z"
    }
   },
   "outputs": [],
   "source": [
    "df['PREGNANT'].replace(98, None, inplace = True)\n",
    "df['PREGNANT'].value_counts(normalize=True)"
   ]
  },
  {
   "cell_type": "markdown",
   "metadata": {
    "collapsed": false
   },
   "source": [
    "Most people aren't pregnant, this now makes a lot more sense"
   ]
  },
  {
   "cell_type": "markdown",
   "metadata": {
    "collapsed": false
   },
   "source": [
    "### 1.5 ICU values"
   ]
  },
  {
   "cell_type": "code",
   "execution_count": null,
   "metadata": {
    "ExecuteTime": {
     "end_time": "2024-01-20T11:53:32.366801800Z",
     "start_time": "2024-01-20T11:53:32.265998600Z"
    },
    "collapsed": false
   },
   "outputs": [],
   "source": [
    "df.ICU.value_counts()"
   ]
  },
  {
   "cell_type": "code",
   "execution_count": null,
   "metadata": {
    "ExecuteTime": {
     "end_time": "2024-01-20T11:53:32.368802Z",
     "start_time": "2024-01-20T11:53:32.276400300Z"
    },
    "collapsed": false
   },
   "outputs": [],
   "source": [
    "pd.crosstab(df['PATIENT_TYPE'], df['ICU'])"
   ]
  },
  {
   "cell_type": "markdown",
   "metadata": {
    "collapsed": false
   },
   "source": [
    "From the above we can see that the missing values of 97 are all corresponding to the values of PATIENT_TYPE = 1 which is for non hospitalized patients, while those of 99 are the missing values of the hospitalized patients, which again can not be told or predicted.\n",
    "\n",
    "So we can replace all the values of (97) with (2); since obviously patients who have never been hospitalized couldn't possibly be admitted to the ICU."
   ]
  },
  {
   "cell_type": "code",
   "execution_count": null,
   "metadata": {
    "ExecuteTime": {
     "end_time": "2024-01-20T11:53:32.368802Z",
     "start_time": "2024-01-20T11:53:32.354172700Z"
    },
    "collapsed": false
   },
   "outputs": [],
   "source": [
    "df['ICU'].replace (97, 2, inplace = True)"
   ]
  },
  {
   "cell_type": "code",
   "execution_count": null,
   "metadata": {
    "ExecuteTime": {
     "end_time": "2024-01-20T11:53:32.439879400Z",
     "start_time": "2024-01-20T11:53:32.364801800Z"
    },
    "collapsed": false
   },
   "outputs": [],
   "source": [
    "df.ICU.value_counts()"
   ]
  },
  {
   "cell_type": "markdown",
   "metadata": {
    "collapsed": false
   },
   "source": [
    "### 1.6 INTUBED values"
   ]
  },
  {
   "cell_type": "code",
   "execution_count": null,
   "metadata": {
    "ExecuteTime": {
     "end_time": "2024-01-20T11:53:32.440881100Z",
     "start_time": "2024-01-20T11:53:32.374750600Z"
    },
    "collapsed": false
   },
   "outputs": [],
   "source": [
    "df.INTUBED.value_counts()"
   ]
  },
  {
   "cell_type": "code",
   "execution_count": null,
   "metadata": {
    "ExecuteTime": {
     "end_time": "2024-01-20T11:53:32.557783Z",
     "start_time": "2024-01-20T11:53:32.386880600Z"
    },
    "collapsed": false
   },
   "outputs": [],
   "source": [
    "pd.crosstab(df['PATIENT_TYPE'], df['INTUBED'])"
   ]
  },
  {
   "cell_type": "markdown",
   "metadata": {
    "collapsed": false
   },
   "source": [
    "Same logic of the ICU patients: patients that are intubed necessarily are also hospitalized"
   ]
  },
  {
   "cell_type": "code",
   "execution_count": null,
   "metadata": {
    "ExecuteTime": {
     "end_time": "2024-01-20T11:53:32.558782800Z",
     "start_time": "2024-01-20T11:53:32.465102300Z"
    },
    "collapsed": false
   },
   "outputs": [],
   "source": [
    "df['INTUBED'].replace (97, 2, inplace = True)"
   ]
  },
  {
   "cell_type": "code",
   "execution_count": null,
   "metadata": {
    "ExecuteTime": {
     "end_time": "2024-01-20T11:53:32.558782800Z",
     "start_time": "2024-01-20T11:53:32.475157700Z"
    },
    "collapsed": false
   },
   "outputs": [],
   "source": [
    "df.INTUBED.value_counts()"
   ]
  },
  {
   "cell_type": "markdown",
   "metadata": {
    "collapsed": false
   },
   "source": [
    "We'll replace everything that we can't infer with NaN"
   ]
  },
  {
   "cell_type": "code",
   "execution_count": null,
   "metadata": {
    "ExecuteTime": {
     "end_time": "2024-01-20T11:53:32.751784600Z",
     "start_time": "2024-01-20T11:53:32.485782700Z"
    },
    "collapsed": false
   },
   "outputs": [],
   "source": [
    "for i in [98, 99]:\n",
    "   df.replace(i , np.nan, inplace = True)"
   ]
  },
  {
   "cell_type": "markdown",
   "metadata": {
    "collapsed": false
   },
   "source": [
    "#### How does the data look now ?"
   ]
  },
  {
   "cell_type": "code",
   "execution_count": null,
   "metadata": {
    "ExecuteTime": {
     "end_time": "2024-01-20T11:53:32.941044Z",
     "start_time": "2024-01-20T11:53:32.659784900Z"
    },
    "collapsed": false
   },
   "outputs": [],
   "source": [
    "# First, let's temporarily reverse the step we did on \"DATE_DIED\" feature; as they are not really missing:\n",
    "df_null2 = df.copy()\n",
    "\n",
    "#Let's check again for our missing values:\n",
    "df_null2.isnull().sum()"
   ]
  },
  {
   "cell_type": "code",
   "execution_count": null,
   "metadata": {
    "ExecuteTime": {
     "end_time": "2024-01-20T11:53:33.888839200Z",
     "start_time": "2024-01-20T11:53:32.885045100Z"
    },
    "collapsed": false
   },
   "outputs": [],
   "source": [
    "df.describe().round(3).T.drop('count', axis = 1)"
   ]
  },
  {
   "cell_type": "markdown",
   "metadata": {
    "collapsed": false
   },
   "source": [
    "Looks much better already !\n",
    "What about a heatmap ?"
   ]
  },
  {
   "cell_type": "code",
   "execution_count": null,
   "metadata": {
    "ExecuteTime": {
     "end_time": "2024-01-20T11:53:33.891353400Z",
     "start_time": "2024-01-20T11:53:33.888839200Z"
    },
    "collapsed": false
   },
   "outputs": [],
   "source": [
    "# sns.heatmap(df_null2.isnull(), cbar=False)\n",
    "# plt.title('After Data cleanup', color = 'black', fontsize = 15)\n",
    "# plt.show()"
   ]
  },
  {
   "cell_type": "code",
   "execution_count": null,
   "metadata": {
    "ExecuteTime": {
     "end_time": "2024-01-20T11:53:33.910604500Z",
     "start_time": "2024-01-20T11:53:33.891353400Z"
    },
    "collapsed": false
   },
   "outputs": [],
   "source": [
    "# fig, ax = plt.subplots(figsize=(20, 15))\n",
    "# mask=np.triu(np.ones_like(df.corr()))\n",
    "# sns.heatmap(df.corr(), mask = mask, annot = True, cmap = \"Blues\", vmin = -1, vmax = 1)\n",
    "# plt.title('Data Correlation', color = 'black', fontsize = 30)\n",
    "# plt.show()"
   ]
  },
  {
   "cell_type": "markdown",
   "metadata": {},
   "source": [
    "### 1.7 Hospitalization"
   ]
  },
  {
   "cell_type": "markdown",
   "metadata": {},
   "source": [
    "Hospitalization is described by the `PATIENT_TYPE` column. It has a value of either 1: at home or 2: in hospital. We can change this column to a boolean column which, instead of describing the patient type, will describe if the patient is hospitalized or not. That means that we will have to change the column name to `HOSPITALIZED`, but we'll also have to invert all the values."
   ]
  },
  {
   "cell_type": "code",
   "execution_count": null,
   "metadata": {
    "ExecuteTime": {
     "end_time": "2024-01-20T11:53:33.911606300Z",
     "start_time": "2024-01-20T11:53:33.896195800Z"
    },
    "collapsed": false
   },
   "outputs": [],
   "source": [
    "df.head()"
   ]
  },
  {
   "cell_type": "code",
   "execution_count": null,
   "metadata": {
    "ExecuteTime": {
     "end_time": "2024-01-20T11:53:34.220153700Z",
     "start_time": "2024-01-20T11:53:33.913606300Z"
    }
   },
   "outputs": [],
   "source": [
    "df[\"HOSPITALIZED\"] = [1 if i == 2 else 2 for i in df[\"PATIENT_TYPE\"]]\n",
    "df[[\"HOSPITALIZED\", \"PATIENT_TYPE\"]].head()"
   ]
  },
  {
   "cell_type": "markdown",
   "metadata": {},
   "source": [
    "We'll drop the column as it is now redundant"
   ]
  },
  {
   "cell_type": "code",
   "execution_count": null,
   "metadata": {
    "ExecuteTime": {
     "end_time": "2024-01-20T11:53:34.345092200Z",
     "start_time": "2024-01-20T11:53:34.220153700Z"
    }
   },
   "outputs": [],
   "source": [
    "df = df.drop(\"PATIENT_TYPE\", axis=1)\n",
    "df.head()"
   ]
  },
  {
   "cell_type": "markdown",
   "metadata": {},
   "source": [
    "### 1.8 Readability fix"
   ]
  },
  {
   "cell_type": "markdown",
   "metadata": {},
   "source": [
    "As we can see, the column names are not very readable, so we'll just fix that. In the original datasheet, it is said that the boolean values, 1 and 2, are actually \"Yes\" and \"No\" respectively. We'll just change that as well to make them boolean."
   ]
  },
  {
   "cell_type": "code",
   "execution_count": null,
   "metadata": {
    "ExecuteTime": {
     "end_time": "2024-01-20T11:53:34.806092900Z",
     "start_time": "2024-01-20T11:53:34.320092200Z"
    }
   },
   "outputs": [],
   "source": [
    "# Get columns whose data unique count is equal to 2 and are either 1, 2 or NA\n",
    "binary_cols = [col for col in df.columns if df[col].nunique() == 2 and df[col].dropna().value_counts().index.isin([1,2]).all()]\n",
    "binary_cols"
   ]
  },
  {
   "cell_type": "markdown",
   "metadata": {},
   "source": [
    "The number of boolean columns described in the datasheet is 15, but we have 16. The culprit is the `USMER` column, which does have only two values, but do not describe a boolean value. We'll just remove it from the list."
   ]
  },
  {
   "cell_type": "code",
   "execution_count": null,
   "metadata": {
    "ExecuteTime": {
     "end_time": "2024-01-20T11:53:34.811104100Z",
     "start_time": "2024-01-20T11:53:34.807093200Z"
    }
   },
   "outputs": [],
   "source": [
    "binary_cols.remove(\"USMER\")\n",
    "binary_cols"
   ]
  },
  {
   "cell_type": "markdown",
   "metadata": {},
   "source": [
    "Now that we have a list of boolean value columns, we can change the values to strings of either \"Y\" or \"N\" and then change the column type to categorical."
   ]
  },
  {
   "cell_type": "code",
   "execution_count": null,
   "metadata": {
    "ExecuteTime": {
     "end_time": "2024-01-20T11:53:34.833074200Z",
     "start_time": "2024-01-20T11:53:34.814078800Z"
    }
   },
   "outputs": [],
   "source": [
    "# Change the values of the binary columns to \"Y\" if 1, \"N\" if 2\n",
    "# for col in binary_cols:\n",
    "#     df[col] = df[col].replace({1: \"Y\", 2: \"N\"})\n",
    "# df.describe().round(3).T.drop('count', axis = 1)"
   ]
  },
  {
   "cell_type": "markdown",
   "metadata": {},
   "source": [
    "### 1.9 Categorizing the columns"
   ]
  },
  {
   "cell_type": "code",
   "execution_count": null,
   "metadata": {
    "ExecuteTime": {
     "end_time": "2024-01-20T11:53:34.997572900Z",
     "start_time": "2024-01-20T11:53:34.817074200Z"
    }
   },
   "outputs": [],
   "source": [
    "# For every columns, display the number of unique values\n",
    "df.nunique()"
   ]
  },
  {
   "cell_type": "code",
   "execution_count": null,
   "metadata": {
    "ExecuteTime": {
     "end_time": "2024-01-20T11:53:36.446506100Z",
     "start_time": "2024-01-20T11:53:35.001573500Z"
    }
   },
   "outputs": [],
   "source": [
    "non_categorical = [\"AGE\"]\n",
    "categorical = df.columns.drop(non_categorical)\n",
    "\n",
    "for category in categorical:\n",
    "    df[category].astype(\"category\")\n",
    "    \n",
    "df.describe().round(3).T.drop('count', axis = 1)\n",
    "\n"
   ]
  },
  {
   "cell_type": "markdown",
   "metadata": {
    "collapsed": false
   },
   "source": [
    "## Dealing with null data"
   ]
  },
  {
   "cell_type": "code",
   "execution_count": null,
   "metadata": {
    "ExecuteTime": {
     "end_time": "2024-01-20T11:53:36.611783200Z",
     "start_time": "2024-01-20T11:53:36.446506100Z"
    },
    "collapsed": false
   },
   "outputs": [],
   "source": [
    "# Select only the categorical columns from the DataFrame\n",
    "categorical_data = df[categorical]\n",
    "\n",
    "# Count the total number of rows in the categorical_data DataFrame\n",
    "total_rows = len(categorical_data)\n",
    "\n",
    "# Count the number of null values in each categorical column\n",
    "null_rows_count = categorical_data.isnull().sum()\n",
    "\n",
    "# Calculate the percentage of null values for each column\n",
    "percentage_null_values = (null_rows_count / total_rows) * 100\n",
    "\n",
    "# Create a DataFrame to display the results\n",
    "null_summary = pd.DataFrame({\n",
    "    'Null Values Count': null_rows_count,\n",
    "    'Total Values Count': total_rows,\n",
    "    'Percentage of Null Values': percentage_null_values\n",
    "})\n",
    "\n",
    "# Print the summary\n",
    "print(\"Summary of null values in each categorical column:\")\n",
    "print(null_summary)\n"
   ]
  },
  {
   "cell_type": "code",
   "execution_count": null,
   "metadata": {
    "ExecuteTime": {
     "end_time": "2024-01-20T11:53:36.758623300Z",
     "start_time": "2024-01-20T11:53:36.599783300Z"
    },
    "collapsed": false
   },
   "outputs": [],
   "source": [
    "# Calculate the initial number of rows\n",
    "initial_rows = len(categorical_data)\n",
    "\n",
    "# Remove rows with null values\n",
    "categorical_data_cleaned = categorical_data.dropna()\n",
    "\n",
    "# Calculate the number of removed lines\n",
    "removed_lines = initial_rows - len(categorical_data_cleaned)\n",
    "\n",
    "# Calculate the number of lines that remain after removal\n",
    "remaining_lines = len(categorical_data_cleaned)\n",
    "\n",
    "# Print the number of removed lines and remaining lines\n",
    "print(f\"Number of removed lines: {removed_lines}\")\n",
    "print(f\"Number of lines remaining: {remaining_lines}\")\n",
    "\n",
    "# Optionally, you can assign the cleaned DataFrame to a new variable or overwrite the original one\n",
    "# categorical_data = categorical_data_cleaned\n"
   ]
  },
  {
   "cell_type": "code",
   "execution_count": null,
   "metadata": {
    "ExecuteTime": {
     "end_time": "2024-01-20T11:53:37.654418400Z",
     "start_time": "2024-01-20T11:53:36.758623300Z"
    },
    "collapsed": false
   },
   "outputs": [],
   "source": [
    "# Calculate the number of rows to export (10% of the total cleaned data)\n",
    "percentage_to_export = 0.1\n",
    "num_rows_to_export = int(len(categorical_data_cleaned) * percentage_to_export)\n",
    "\n",
    "# Set a random seed for reproducibility\n",
    "random_seed = 42  # You can use any integer as the seed\n",
    "\n",
    "# Use the sample method to randomly select the specified number of rows\n",
    "random_subset = categorical_data_cleaned.sample(n=num_rows_to_export, random_state=random_seed)\n",
    "\n",
    "# Specify the path where you want to save the cleaned subset of data to a CSV file\n",
    "cleaned_subset_output_file = \"cleaned_categorical_data_subset.csv\"\n",
    "\n",
    "# Export the cleaned subset of data to a CSV file\n",
    "random_subset.to_csv(cleaned_subset_output_file, index=False)\n",
    "\n",
    "# Optionally, you can read the cleaned subset data back into a DataFrame if needed\n",
    "cleaned_subset_df = pd.read_csv(cleaned_subset_output_file)\n",
    "\n",
    "# Display the first few rows of the cleaned subset DataFrame\n",
    "print(\"\\nFirst few rows of the cleaned subset DataFrame:\")\n",
    "print(cleaned_subset_df.head())"
   ]
  },
  {
   "cell_type": "markdown",
   "metadata": {
    "collapsed": false
   },
   "source": [
    "# Looking for correlation"
   ]
  },
  {
   "cell_type": "code",
   "execution_count": null,
   "metadata": {
    "ExecuteTime": {
     "end_time": "2024-01-20T11:53:38.600268100Z",
     "start_time": "2024-01-20T11:53:37.654418400Z"
    },
    "collapsed": false
   },
   "outputs": [],
   "source": [
    "# df = df[['USMER','MEDICAL_UNIT','SEX','INTUBED','PNEUMONIA','PREGNANT','DIABETES','COPD','ASTHMA','INMSUPR','HIPERTENSION','OTHER_DISEASE','CARDIOVASCULAR','OBESITY','RENAL_CHRONIC','TOBACCO','CLASIFFICATION_FINAL','ICU','DEAD','HOSPITALIZED'\n",
    "# ]].dropna()\n",
    "\n",
    "sex_to_int = df.copy()\n",
    "sex_to_int['SEX'] = df['SEX'].replace({'F': 1, 'M': 2})\n",
    "sex_to_int.head()\n",
    "\n",
    "sex_to_int.corr()['DEAD']\n"
   ]
  },
  {
   "cell_type": "code",
   "execution_count": null,
   "metadata": {
    "ExecuteTime": {
     "end_time": "2024-01-20T11:53:39.790794900Z",
     "start_time": "2024-01-20T11:53:38.600268100Z"
    },
    "collapsed": false
   },
   "outputs": [],
   "source": [
    "fig, ax = plt.subplots(figsize=(20, 15))\n",
    "sorted_corr = sex_to_int.copy()\n",
    "sorted_corr = sorted_corr.corr()[['DEAD']].sort_values(by='DEAD', ascending=False)\n",
    "\n",
    "sns.heatmap(sorted_corr, annot = True, cmap = \"Blues\", vmin = -1, vmax = 1)\n",
    "plt.title('Death factors correlation', color = 'black', fontsize = 30)\n",
    "plt.show()"
   ]
  },
  {
   "cell_type": "code",
   "execution_count": null,
   "metadata": {
    "ExecuteTime": {
     "end_time": "2024-01-20T11:53:40.946740900Z",
     "start_time": "2024-01-20T11:53:39.791799500Z"
    },
    "collapsed": false
   },
   "outputs": [],
   "source": [
    "import matplotlib.pyplot as plt\n",
    "import seaborn as sns\n",
    "\n",
    "sorted_corr_relevant = sex_to_int.copy()\n",
    "correlation_matrix = sorted_corr_relevant.corr()[['DEAD']]\n",
    "\n",
    "filtered_corr = correlation_matrix[(correlation_matrix > 0.1) | (correlation_matrix < -0.1)].dropna()\n",
    "\n",
    "fig, ax = plt.subplots(figsize=(20, 15))\n",
    "\n",
    "sns.heatmap(filtered_corr.sort_values(by='DEAD', ascending=False), annot=True, cmap=\"Blues\", vmin=-1, vmax=1)\n",
    "plt.title('Death factors correlation', color='black', fontsize=30)\n",
    "plt.show()\n"
   ]
  },
  {
   "cell_type": "markdown",
   "metadata": {
    "collapsed": false
   },
   "source": [
    "# Decision tree"
   ]
  },
  {
   "cell_type": "markdown",
   "metadata": {
    "collapsed": false
   },
   "source": [
    "## Basic example"
   ]
  },
  {
   "cell_type": "code",
   "execution_count": null,
   "metadata": {
    "ExecuteTime": {
     "end_time": "2024-01-20T11:53:41.278313900Z",
     "start_time": "2024-01-20T11:53:40.928741100Z"
    },
    "collapsed": false
   },
   "outputs": [],
   "source": [
    "from sklearn import tree\n",
    "from sklearn.tree import DecisionTreeClassifier\n",
    "\n",
    "X = df.copy().drop('DEAD', axis=1)\n",
    "Y = df['DEAD']"
   ]
  },
  {
   "cell_type": "code",
   "execution_count": null,
   "metadata": {
    "ExecuteTime": {
     "end_time": "2024-01-20T11:53:45.107924100Z",
     "start_time": "2024-01-20T11:53:41.127315100Z"
    },
    "collapsed": false
   },
   "outputs": [],
   "source": [
    "x_train, x_test, y_train, y_test = train_test_split(X, Y, test_size=0.30, random_state=42)\n",
    "\n",
    "dtree = DecisionTreeClassifier()\n",
    "dtree = dtree.fit(x_train, y_train)"
   ]
  },
  {
   "cell_type": "code",
   "execution_count": null,
   "metadata": {
    "ExecuteTime": {
     "end_time": "2024-01-20T11:53:46.519933700Z",
     "start_time": "2024-01-20T11:53:45.109924100Z"
    },
    "collapsed": false
   },
   "outputs": [],
   "source": [
    "print(\"Decision Tree Train Accuracy: \", dtree.score(x_train,y_train), \"\\n\")\n",
    "print(\"Decision Tree Test Accuracy:\", dtree.score(x_test, y_test), \"\\n\")"
   ]
  },
  {
   "cell_type": "code",
   "execution_count": null,
   "metadata": {},
   "outputs": [],
   "source": [
    "y_pred = dtree.predict(x_test)\n",
    "c_matrix = confusion_matrix(y_test, y_pred)\n",
    "util.plot_confusion_matrix_pie(c_matrix)"
   ]
  },
  {
   "cell_type": "markdown",
   "metadata": {
    "collapsed": false
   },
   "source": [
    "## Correlation based Tree data selection"
   ]
  },
  {
   "cell_type": "markdown",
   "metadata": {
    "collapsed": false
   },
   "source": [
    "Here I just select the more relevant columns based on the correlation results."
   ]
  },
  {
   "cell_type": "code",
   "execution_count": null,
   "metadata": {
    "ExecuteTime": {
     "end_time": "2024-01-20T11:59:31.011726800Z",
     "start_time": "2024-01-20T11:59:30.920230300Z"
    },
    "collapsed": false
   },
   "outputs": [],
   "source": [
    "bound = 0.4\n",
    "\n",
    "sorted_corr.sort_values(by='DEAD', ascending=False)\n",
    "\n",
    "filtered_corr = sorted_corr[(sorted_corr['DEAD'] > bound) | (sorted_corr['DEAD'] < -bound)]\n",
    "\n",
    "filtered_corr.sort_values(by='DEAD', ascending=False)\n",
    "\n",
    "unique_names = filtered_corr.index.tolist()\n",
    "\n",
    "unique_names.remove('DEAD')\n",
    "\n",
    "unique_names"
   ]
  },
  {
   "cell_type": "code",
   "execution_count": null,
   "metadata": {
    "ExecuteTime": {
     "end_time": "2024-01-20T11:59:31.566083900Z",
     "start_time": "2024-01-20T11:59:31.512973500Z"
    },
    "collapsed": false
   },
   "outputs": [],
   "source": [
    "from sklearn.tree import DecisionTreeClassifier\n",
    "\n",
    "X = df[unique_names].copy()\n",
    "\n",
    "Y = df['DEAD']"
   ]
  },
  {
   "cell_type": "code",
   "execution_count": null,
   "metadata": {
    "ExecuteTime": {
     "end_time": "2024-01-20T11:59:32.813449100Z",
     "start_time": "2024-01-20T11:59:32.194925600Z"
    },
    "collapsed": false
   },
   "outputs": [],
   "source": [
    "x_train, x_test, y_train, y_test = train_test_split(X, Y, test_size=0.30, random_state=42)\n",
    "\n",
    "dtree = DecisionTreeClassifier()\n",
    "dtree = dtree.fit(x_train, y_train)"
   ]
  },
  {
   "cell_type": "code",
   "execution_count": null,
   "metadata": {
    "ExecuteTime": {
     "end_time": "2024-01-20T11:59:32.945450400Z",
     "start_time": "2024-01-20T11:59:32.785451Z"
    },
    "collapsed": false
   },
   "outputs": [],
   "source": [
    "print(\"Decision Tree Train Accuracy: \", dtree.score(x_train,y_train), \"\\n\")\n",
    "\n",
    "print(\"Decision Tree Train Accuracy:\", dtree.score(x_test, y_test), \"\\n\")"
   ]
  },
  {
   "cell_type": "code",
   "execution_count": null,
   "metadata": {
    "ExecuteTime": {
     "end_time": "2024-01-20T11:59:47.559442400Z",
     "start_time": "2024-01-20T11:59:34.554668400Z"
    },
    "collapsed": false
   },
   "outputs": [],
   "source": [
    "tree.plot_tree(dtree, feature_names=X.columns, filled=True)\n"
   ]
  },
  {
   "cell_type": "code",
   "execution_count": null,
   "metadata": {},
   "outputs": [],
   "source": [
    "y_pred = dtree.predict(x_test)\n",
    "c_matrix = confusion_matrix(y_test, y_pred)\n",
    "util.plot_confusion_matrix_pie(c_matrix)"
   ]
  },
  {
   "cell_type": "markdown",
   "metadata": {},
   "source": [
    "# Forest"
   ]
  },
  {
   "cell_type": "code",
   "execution_count": null,
   "metadata": {},
   "outputs": [],
   "source": [
    "X = df.copy().drop('DEAD', axis=1)\n",
    "Y = df['DEAD']\n",
    "\n",
    "X = X.fillna(X.mean())\n",
    "\n",
    "x_train, x_test, y_train, y_test = train_test_split(X, Y, test_size=0.30, random_state=42)"
   ]
  },
  {
   "cell_type": "code",
   "execution_count": null,
   "metadata": {},
   "outputs": [],
   "source": [
    "dtree = RandomForestClassifier()\n",
    "dtree = dtree.fit(x_train, y_train)"
   ]
  },
  {
   "cell_type": "code",
   "execution_count": null,
   "metadata": {},
   "outputs": [],
   "source": [
    "print(\"Decision Tree Train Accuracy: \", dtree.score(x_train,y_train), \"\\n\")\n",
    "print(\"Decision Tree Test Accuracy:\", dtree.score(x_test, y_test), \"\\n\")"
   ]
  },
  {
   "cell_type": "code",
   "execution_count": null,
   "metadata": {},
   "outputs": [],
   "source": [
    "y_pred = dtree.predict(x_test)\n",
    "c_matrix = confusion_matrix(y_test, y_pred)\n",
    "util.plot_confusion_matrix_pie(c_matrix)"
   ]
  }
 ],
 "metadata": {
  "kernelspec": {
   "display_name": "venv",
   "language": "python",
   "name": "python3"
  },
  "language_info": {
   "codemirror_mode": {
    "name": "ipython",
    "version": 3
   },
   "file_extension": ".py",
   "mimetype": "text/x-python",
   "name": "python",
   "nbconvert_exporter": "python",
   "pygments_lexer": "ipython3",
   "version": "3.10.12"
  }
 },
 "nbformat": 4,
 "nbformat_minor": 2
}
